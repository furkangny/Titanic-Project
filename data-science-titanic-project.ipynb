{
 "cells": [
  {
   "cell_type": "markdown",
   "id": "1d5c9341",
   "metadata": {
    "papermill": {
     "duration": 0.015654,
     "end_time": "2024-03-31T21:57:20.107803",
     "exception": false,
     "start_time": "2024-03-31T21:57:20.092149",
     "status": "completed"
    },
    "tags": []
   },
   "source": [
    "# Introduction\n",
    "A project I made with the data of 2224 passengers found in the Titanic shipwreck in 1912.\n",
    "\n",
    "<font color = 'blue' >\n",
    "Content:\n",
    "    \n",
    "    \n",
    "1. [Load and Check Data](#1)\n",
    "2. [Variable Description](#2)\n",
    "    * [Univariate Variable Analysis](#3)\n",
    "        * [Categorical Variable](#4)\n",
    "        * [Numerical Variable](#5)\n",
    "3. [Basic Data Analysis](#6)\n",
    "4. [Outlier Detection](#7)\n",
    "5. [Missing Value](#8)\n",
    "    * [Find Missing Value](#9)\n",
    "    * [Fill Missing Value](#10)\n",
    "1. [Visualization](#11)\n",
    "    * [Correlation Between Sibsp -- Parch -- Age -- Fare -- Survived](#12)\n",
    "    * [SibSp -- Survived](#13)\n",
    "    * [Parch -- Survived](#14)\n",
    "    * [Pclass -- Survived](#15)\n",
    "    * [Age -- Survived](#16)\n",
    "    * [Pclass -- Survived -- Age](#17)\n",
    "    * [Embarked -- Sex -- Pclass -- Survived](#18)\n",
    "    * [Embarked -- Sex -- Fare -- Survived](#19)\n",
    "    * [Fill Missing: Age Feature](#20)"
   ]
  },
  {
   "cell_type": "code",
   "execution_count": 1,
   "id": "08598bbe",
   "metadata": {
    "_cell_guid": "b1076dfc-b9ad-4769-8c92-a6c4dae69d19",
    "_uuid": "8f2839f25d086af736a60e9eeb907d3b93b6e0e5",
    "execution": {
     "iopub.execute_input": "2024-03-31T21:57:20.139815Z",
     "iopub.status.busy": "2024-03-31T21:57:20.139197Z",
     "iopub.status.idle": "2024-03-31T21:57:22.620663Z",
     "shell.execute_reply": "2024-03-31T21:57:22.619331Z"
    },
    "papermill": {
     "duration": 2.50135,
     "end_time": "2024-03-31T21:57:22.623844",
     "exception": false,
     "start_time": "2024-03-31T21:57:20.122494",
     "status": "completed"
    },
    "tags": []
   },
   "outputs": [
    {
     "name": "stdout",
     "output_type": "stream",
     "text": [
      "/kaggle/input/titanic/train.csv\n",
      "/kaggle/input/titanic/test.csv\n",
      "/kaggle/input/titanic/gender_submission.csv\n"
     ]
    }
   ],
   "source": [
    "# This Python 3 environment comes with many helpful analytics libraries installed\n",
    "# It is defined by the kaggle/python Docker image: https://github.com/kaggle/docker-python\n",
    "# For example, here's several helpful packages to load\n",
    "\n",
    "import numpy as np # linear algebra\n",
    "import pandas as pd # data processing, CSV file I/O (e.g. pd.read_csv)\n",
    "\n",
    "import matplotlib.pyplot as plt\n",
    "#plt.style.use('seaborn-whitegrid') #-> You can use different style visualization tools with the plt.style.available command \n",
    "\n",
    "import seaborn as sns\n",
    "\n",
    "from collections import Counter\n",
    "\n",
    "import warnings\n",
    "warnings.filterwarnings('ignore')\n",
    "\n",
    "# Input data files are available in the read-only \"../input/\" directory\n",
    "# For example, running this (by clicking run or pressing Shift+Enter) will list all files under the input directory\n",
    "\n",
    "import os\n",
    "for dirname, _, filenames in os.walk('/kaggle/input'):\n",
    "    for filename in filenames:\n",
    "        print(os.path.join(dirname, filename))\n",
    "\n",
    "# You can write up to 20GB to the current directory (/kaggle/working/) that gets preserved as output when you create a version using \"Save & Run All\" \n",
    "# You can also write temporary files to /kaggle/temp/, but they won't be saved outside of the current session"
   ]
  },
  {
   "cell_type": "markdown",
   "id": "fc16c0ee",
   "metadata": {
    "papermill": {
     "duration": 0.014283,
     "end_time": "2024-03-31T21:57:22.654894",
     "exception": false,
     "start_time": "2024-03-31T21:57:22.640611",
     "status": "completed"
    },
    "tags": []
   },
   "source": [
    "<a id = '1'></a><br>\n",
    "# Load and Check Data:"
   ]
  },
  {
   "cell_type": "code",
   "execution_count": 2,
   "id": "4200b050",
   "metadata": {
    "execution": {
     "iopub.execute_input": "2024-03-31T21:57:22.688375Z",
     "iopub.status.busy": "2024-03-31T21:57:22.687638Z",
     "iopub.status.idle": "2024-03-31T21:57:22.721548Z",
     "shell.execute_reply": "2024-03-31T21:57:22.720469Z"
    },
    "papermill": {
     "duration": 0.053785,
     "end_time": "2024-03-31T21:57:22.724465",
     "exception": false,
     "start_time": "2024-03-31T21:57:22.670680",
     "status": "completed"
    },
    "tags": []
   },
   "outputs": [],
   "source": [
    "train_df = pd.read_csv('/kaggle/input/titanic/train.csv')\n",
    "test_df = pd.read_csv('/kaggle/input/titanic/test.csv')\n",
    "test_passenger_ıd = test_df['PassengerId']"
   ]
  },
  {
   "cell_type": "code",
   "execution_count": 3,
   "id": "be4d3f4d",
   "metadata": {
    "execution": {
     "iopub.execute_input": "2024-03-31T21:57:22.757677Z",
     "iopub.status.busy": "2024-03-31T21:57:22.756629Z",
     "iopub.status.idle": "2024-03-31T21:57:22.764913Z",
     "shell.execute_reply": "2024-03-31T21:57:22.764023Z"
    },
    "papermill": {
     "duration": 0.026984,
     "end_time": "2024-03-31T21:57:22.766972",
     "exception": false,
     "start_time": "2024-03-31T21:57:22.739988",
     "status": "completed"
    },
    "tags": []
   },
   "outputs": [
    {
     "data": {
      "text/plain": [
       "Index(['PassengerId', 'Survived', 'Pclass', 'Name', 'Sex', 'Age', 'SibSp',\n",
       "       'Parch', 'Ticket', 'Fare', 'Cabin', 'Embarked'],\n",
       "      dtype='object')"
      ]
     },
     "execution_count": 3,
     "metadata": {},
     "output_type": "execute_result"
    }
   ],
   "source": [
    "train_df.columns"
   ]
  },
  {
   "cell_type": "code",
   "execution_count": 4,
   "id": "18f74da9",
   "metadata": {
    "execution": {
     "iopub.execute_input": "2024-03-31T21:57:22.800793Z",
     "iopub.status.busy": "2024-03-31T21:57:22.799910Z",
     "iopub.status.idle": "2024-03-31T21:57:22.824355Z",
     "shell.execute_reply": "2024-03-31T21:57:22.823163Z"
    },
    "papermill": {
     "duration": 0.043891,
     "end_time": "2024-03-31T21:57:22.827098",
     "exception": false,
     "start_time": "2024-03-31T21:57:22.783207",
     "status": "completed"
    },
    "tags": []
   },
   "outputs": [
    {
     "data": {
      "text/html": [
       "<div>\n",
       "<style scoped>\n",
       "    .dataframe tbody tr th:only-of-type {\n",
       "        vertical-align: middle;\n",
       "    }\n",
       "\n",
       "    .dataframe tbody tr th {\n",
       "        vertical-align: top;\n",
       "    }\n",
       "\n",
       "    .dataframe thead th {\n",
       "        text-align: right;\n",
       "    }\n",
       "</style>\n",
       "<table border=\"1\" class=\"dataframe\">\n",
       "  <thead>\n",
       "    <tr style=\"text-align: right;\">\n",
       "      <th></th>\n",
       "      <th>PassengerId</th>\n",
       "      <th>Survived</th>\n",
       "      <th>Pclass</th>\n",
       "      <th>Name</th>\n",
       "      <th>Sex</th>\n",
       "      <th>Age</th>\n",
       "      <th>SibSp</th>\n",
       "      <th>Parch</th>\n",
       "      <th>Ticket</th>\n",
       "      <th>Fare</th>\n",
       "      <th>Cabin</th>\n",
       "      <th>Embarked</th>\n",
       "    </tr>\n",
       "  </thead>\n",
       "  <tbody>\n",
       "    <tr>\n",
       "      <th>0</th>\n",
       "      <td>1</td>\n",
       "      <td>0</td>\n",
       "      <td>3</td>\n",
       "      <td>Braund, Mr. Owen Harris</td>\n",
       "      <td>male</td>\n",
       "      <td>22.0</td>\n",
       "      <td>1</td>\n",
       "      <td>0</td>\n",
       "      <td>A/5 21171</td>\n",
       "      <td>7.2500</td>\n",
       "      <td>NaN</td>\n",
       "      <td>S</td>\n",
       "    </tr>\n",
       "    <tr>\n",
       "      <th>1</th>\n",
       "      <td>2</td>\n",
       "      <td>1</td>\n",
       "      <td>1</td>\n",
       "      <td>Cumings, Mrs. John Bradley (Florence Briggs Th...</td>\n",
       "      <td>female</td>\n",
       "      <td>38.0</td>\n",
       "      <td>1</td>\n",
       "      <td>0</td>\n",
       "      <td>PC 17599</td>\n",
       "      <td>71.2833</td>\n",
       "      <td>C85</td>\n",
       "      <td>C</td>\n",
       "    </tr>\n",
       "    <tr>\n",
       "      <th>2</th>\n",
       "      <td>3</td>\n",
       "      <td>1</td>\n",
       "      <td>3</td>\n",
       "      <td>Heikkinen, Miss. Laina</td>\n",
       "      <td>female</td>\n",
       "      <td>26.0</td>\n",
       "      <td>0</td>\n",
       "      <td>0</td>\n",
       "      <td>STON/O2. 3101282</td>\n",
       "      <td>7.9250</td>\n",
       "      <td>NaN</td>\n",
       "      <td>S</td>\n",
       "    </tr>\n",
       "    <tr>\n",
       "      <th>3</th>\n",
       "      <td>4</td>\n",
       "      <td>1</td>\n",
       "      <td>1</td>\n",
       "      <td>Futrelle, Mrs. Jacques Heath (Lily May Peel)</td>\n",
       "      <td>female</td>\n",
       "      <td>35.0</td>\n",
       "      <td>1</td>\n",
       "      <td>0</td>\n",
       "      <td>113803</td>\n",
       "      <td>53.1000</td>\n",
       "      <td>C123</td>\n",
       "      <td>S</td>\n",
       "    </tr>\n",
       "    <tr>\n",
       "      <th>4</th>\n",
       "      <td>5</td>\n",
       "      <td>0</td>\n",
       "      <td>3</td>\n",
       "      <td>Allen, Mr. William Henry</td>\n",
       "      <td>male</td>\n",
       "      <td>35.0</td>\n",
       "      <td>0</td>\n",
       "      <td>0</td>\n",
       "      <td>373450</td>\n",
       "      <td>8.0500</td>\n",
       "      <td>NaN</td>\n",
       "      <td>S</td>\n",
       "    </tr>\n",
       "  </tbody>\n",
       "</table>\n",
       "</div>"
      ],
      "text/plain": [
       "   PassengerId  Survived  Pclass  \\\n",
       "0            1         0       3   \n",
       "1            2         1       1   \n",
       "2            3         1       3   \n",
       "3            4         1       1   \n",
       "4            5         0       3   \n",
       "\n",
       "                                                Name     Sex   Age  SibSp  \\\n",
       "0                            Braund, Mr. Owen Harris    male  22.0      1   \n",
       "1  Cumings, Mrs. John Bradley (Florence Briggs Th...  female  38.0      1   \n",
       "2                             Heikkinen, Miss. Laina  female  26.0      0   \n",
       "3       Futrelle, Mrs. Jacques Heath (Lily May Peel)  female  35.0      1   \n",
       "4                           Allen, Mr. William Henry    male  35.0      0   \n",
       "\n",
       "   Parch            Ticket     Fare Cabin Embarked  \n",
       "0      0         A/5 21171   7.2500   NaN        S  \n",
       "1      0          PC 17599  71.2833   C85        C  \n",
       "2      0  STON/O2. 3101282   7.9250   NaN        S  \n",
       "3      0            113803  53.1000  C123        S  \n",
       "4      0            373450   8.0500   NaN        S  "
      ]
     },
     "execution_count": 4,
     "metadata": {},
     "output_type": "execute_result"
    }
   ],
   "source": [
    "train_df.head()"
   ]
  },
  {
   "cell_type": "code",
   "execution_count": 5,
   "id": "65728d27",
   "metadata": {
    "execution": {
     "iopub.execute_input": "2024-03-31T21:57:22.861265Z",
     "iopub.status.busy": "2024-03-31T21:57:22.860781Z",
     "iopub.status.idle": "2024-03-31T21:57:22.894820Z",
     "shell.execute_reply": "2024-03-31T21:57:22.893616Z"
    },
    "papermill": {
     "duration": 0.054394,
     "end_time": "2024-03-31T21:57:22.897555",
     "exception": false,
     "start_time": "2024-03-31T21:57:22.843161",
     "status": "completed"
    },
    "tags": []
   },
   "outputs": [
    {
     "data": {
      "text/html": [
       "<div>\n",
       "<style scoped>\n",
       "    .dataframe tbody tr th:only-of-type {\n",
       "        vertical-align: middle;\n",
       "    }\n",
       "\n",
       "    .dataframe tbody tr th {\n",
       "        vertical-align: top;\n",
       "    }\n",
       "\n",
       "    .dataframe thead th {\n",
       "        text-align: right;\n",
       "    }\n",
       "</style>\n",
       "<table border=\"1\" class=\"dataframe\">\n",
       "  <thead>\n",
       "    <tr style=\"text-align: right;\">\n",
       "      <th></th>\n",
       "      <th>PassengerId</th>\n",
       "      <th>Survived</th>\n",
       "      <th>Pclass</th>\n",
       "      <th>Age</th>\n",
       "      <th>SibSp</th>\n",
       "      <th>Parch</th>\n",
       "      <th>Fare</th>\n",
       "    </tr>\n",
       "  </thead>\n",
       "  <tbody>\n",
       "    <tr>\n",
       "      <th>count</th>\n",
       "      <td>891.000000</td>\n",
       "      <td>891.000000</td>\n",
       "      <td>891.000000</td>\n",
       "      <td>714.000000</td>\n",
       "      <td>891.000000</td>\n",
       "      <td>891.000000</td>\n",
       "      <td>891.000000</td>\n",
       "    </tr>\n",
       "    <tr>\n",
       "      <th>mean</th>\n",
       "      <td>446.000000</td>\n",
       "      <td>0.383838</td>\n",
       "      <td>2.308642</td>\n",
       "      <td>29.699118</td>\n",
       "      <td>0.523008</td>\n",
       "      <td>0.381594</td>\n",
       "      <td>32.204208</td>\n",
       "    </tr>\n",
       "    <tr>\n",
       "      <th>std</th>\n",
       "      <td>257.353842</td>\n",
       "      <td>0.486592</td>\n",
       "      <td>0.836071</td>\n",
       "      <td>14.526497</td>\n",
       "      <td>1.102743</td>\n",
       "      <td>0.806057</td>\n",
       "      <td>49.693429</td>\n",
       "    </tr>\n",
       "    <tr>\n",
       "      <th>min</th>\n",
       "      <td>1.000000</td>\n",
       "      <td>0.000000</td>\n",
       "      <td>1.000000</td>\n",
       "      <td>0.420000</td>\n",
       "      <td>0.000000</td>\n",
       "      <td>0.000000</td>\n",
       "      <td>0.000000</td>\n",
       "    </tr>\n",
       "    <tr>\n",
       "      <th>25%</th>\n",
       "      <td>223.500000</td>\n",
       "      <td>0.000000</td>\n",
       "      <td>2.000000</td>\n",
       "      <td>20.125000</td>\n",
       "      <td>0.000000</td>\n",
       "      <td>0.000000</td>\n",
       "      <td>7.910400</td>\n",
       "    </tr>\n",
       "    <tr>\n",
       "      <th>50%</th>\n",
       "      <td>446.000000</td>\n",
       "      <td>0.000000</td>\n",
       "      <td>3.000000</td>\n",
       "      <td>28.000000</td>\n",
       "      <td>0.000000</td>\n",
       "      <td>0.000000</td>\n",
       "      <td>14.454200</td>\n",
       "    </tr>\n",
       "    <tr>\n",
       "      <th>75%</th>\n",
       "      <td>668.500000</td>\n",
       "      <td>1.000000</td>\n",
       "      <td>3.000000</td>\n",
       "      <td>38.000000</td>\n",
       "      <td>1.000000</td>\n",
       "      <td>0.000000</td>\n",
       "      <td>31.000000</td>\n",
       "    </tr>\n",
       "    <tr>\n",
       "      <th>max</th>\n",
       "      <td>891.000000</td>\n",
       "      <td>1.000000</td>\n",
       "      <td>3.000000</td>\n",
       "      <td>80.000000</td>\n",
       "      <td>8.000000</td>\n",
       "      <td>6.000000</td>\n",
       "      <td>512.329200</td>\n",
       "    </tr>\n",
       "  </tbody>\n",
       "</table>\n",
       "</div>"
      ],
      "text/plain": [
       "       PassengerId    Survived      Pclass         Age       SibSp  \\\n",
       "count   891.000000  891.000000  891.000000  714.000000  891.000000   \n",
       "mean    446.000000    0.383838    2.308642   29.699118    0.523008   \n",
       "std     257.353842    0.486592    0.836071   14.526497    1.102743   \n",
       "min       1.000000    0.000000    1.000000    0.420000    0.000000   \n",
       "25%     223.500000    0.000000    2.000000   20.125000    0.000000   \n",
       "50%     446.000000    0.000000    3.000000   28.000000    0.000000   \n",
       "75%     668.500000    1.000000    3.000000   38.000000    1.000000   \n",
       "max     891.000000    1.000000    3.000000   80.000000    8.000000   \n",
       "\n",
       "            Parch        Fare  \n",
       "count  891.000000  891.000000  \n",
       "mean     0.381594   32.204208  \n",
       "std      0.806057   49.693429  \n",
       "min      0.000000    0.000000  \n",
       "25%      0.000000    7.910400  \n",
       "50%      0.000000   14.454200  \n",
       "75%      0.000000   31.000000  \n",
       "max      6.000000  512.329200  "
      ]
     },
     "execution_count": 5,
     "metadata": {},
     "output_type": "execute_result"
    }
   ],
   "source": [
    "train_df.describe()"
   ]
  },
  {
   "cell_type": "markdown",
   "id": "8528a304",
   "metadata": {
    "papermill": {
     "duration": 0.015147,
     "end_time": "2024-03-31T21:57:22.928638",
     "exception": false,
     "start_time": "2024-03-31T21:57:22.913491",
     "status": "completed"
    },
    "tags": []
   },
   "source": [
    "<a id = '2'></a><br>\n",
    "# Variable Description\n",
    "1. PassengerId: unique id number to each passenger\n",
    "1. Survived: passenger survive(1) or died(0)\n",
    "1. Pclass: passenger class\n",
    "1. Name: name\n",
    "1. Sex: gender of passenger\n",
    "1. Age: age of passenger\n",
    "1. SibSp: number of siblings/spouses\n",
    "1. Parch: number of parent/children\n",
    "1. Ticket: ticket number\n",
    "1. Fare: amount of money spent on ticket\n",
    "1. Cabin: cabin category\n",
    "1. Embarked: port where passenger embarked(C = Cherbourg, Q = Queenstown, S = Southampton)"
   ]
  },
  {
   "cell_type": "code",
   "execution_count": 6,
   "id": "e76f2c81",
   "metadata": {
    "execution": {
     "iopub.execute_input": "2024-03-31T21:57:22.963964Z",
     "iopub.status.busy": "2024-03-31T21:57:22.962622Z",
     "iopub.status.idle": "2024-03-31T21:57:22.990516Z",
     "shell.execute_reply": "2024-03-31T21:57:22.989250Z"
    },
    "papermill": {
     "duration": 0.049195,
     "end_time": "2024-03-31T21:57:22.993531",
     "exception": false,
     "start_time": "2024-03-31T21:57:22.944336",
     "status": "completed"
    },
    "tags": []
   },
   "outputs": [
    {
     "name": "stdout",
     "output_type": "stream",
     "text": [
      "<class 'pandas.core.frame.DataFrame'>\n",
      "RangeIndex: 891 entries, 0 to 890\n",
      "Data columns (total 12 columns):\n",
      " #   Column       Non-Null Count  Dtype  \n",
      "---  ------       --------------  -----  \n",
      " 0   PassengerId  891 non-null    int64  \n",
      " 1   Survived     891 non-null    int64  \n",
      " 2   Pclass       891 non-null    int64  \n",
      " 3   Name         891 non-null    object \n",
      " 4   Sex          891 non-null    object \n",
      " 5   Age          714 non-null    float64\n",
      " 6   SibSp        891 non-null    int64  \n",
      " 7   Parch        891 non-null    int64  \n",
      " 8   Ticket       891 non-null    object \n",
      " 9   Fare         891 non-null    float64\n",
      " 10  Cabin        204 non-null    object \n",
      " 11  Embarked     889 non-null    object \n",
      "dtypes: float64(2), int64(5), object(5)\n",
      "memory usage: 83.7+ KB\n"
     ]
    }
   ],
   "source": [
    "train_df.info()"
   ]
  },
  {
   "cell_type": "markdown",
   "id": "fbab17d2",
   "metadata": {
    "execution": {
     "iopub.execute_input": "2024-03-25T15:17:51.068822Z",
     "iopub.status.busy": "2024-03-25T15:17:51.068206Z",
     "iopub.status.idle": "2024-03-25T15:17:51.075477Z",
     "shell.execute_reply": "2024-03-25T15:17:51.074101Z",
     "shell.execute_reply.started": "2024-03-25T15:17:51.068783Z"
    },
    "papermill": {
     "duration": 0.015398,
     "end_time": "2024-03-31T21:57:23.024579",
     "exception": false,
     "start_time": "2024-03-31T21:57:23.009181",
     "status": "completed"
    },
    "tags": []
   },
   "source": [
    "* float64(2): Fare and Age \n",
    "* int64(5): Pclass, Sibsp, Parch, PassengerId and Survived\n",
    "* object(5): Name, Sex, Ticket, Cabin and Embarked"
   ]
  },
  {
   "cell_type": "markdown",
   "id": "587f49e8",
   "metadata": {
    "papermill": {
     "duration": 0.015552,
     "end_time": "2024-03-31T21:57:23.055748",
     "exception": false,
     "start_time": "2024-03-31T21:57:23.040196",
     "status": "completed"
    },
    "tags": []
   },
   "source": [
    "<a id = '3'></a><br>\n",
    "# Univariate Variable Analysis\n",
    "\n",
    "* Categorical Variable: Survived, Sex, Pclass, Embarked, Cabin, Name, Ticket, Sibsp and Parch\n",
    "* Numerical Variable: Fare, Age and PassengerId"
   ]
  },
  {
   "cell_type": "markdown",
   "id": "9e2d5e9e",
   "metadata": {
    "papermill": {
     "duration": 0.015093,
     "end_time": "2024-03-31T21:57:23.086545",
     "exception": false,
     "start_time": "2024-03-31T21:57:23.071452",
     "status": "completed"
    },
    "tags": []
   },
   "source": [
    "<a id = '4'></a><br>\n",
    "## Categorical Variable"
   ]
  },
  {
   "cell_type": "code",
   "execution_count": 7,
   "id": "0b0bf1e8",
   "metadata": {
    "execution": {
     "iopub.execute_input": "2024-03-31T21:57:23.119577Z",
     "iopub.status.busy": "2024-03-31T21:57:23.119122Z",
     "iopub.status.idle": "2024-03-31T21:57:23.127207Z",
     "shell.execute_reply": "2024-03-31T21:57:23.125911Z"
    },
    "papermill": {
     "duration": 0.027427,
     "end_time": "2024-03-31T21:57:23.129486",
     "exception": false,
     "start_time": "2024-03-31T21:57:23.102059",
     "status": "completed"
    },
    "tags": []
   },
   "outputs": [],
   "source": [
    "def bar_plot(variable):\n",
    "    \"\"\"\n",
    "        input: variable ex: \"Sex\"\n",
    "        output: bar plot & value count\n",
    "    \"\"\"\n",
    "    # get feature\n",
    "    var = train_df[variable]\n",
    "    # count number of categorical variable(value/sample)\n",
    "    var_value = var.value_counts()\n",
    "    \n",
    "    #visualize\n",
    "    plt.figure(figsize = (9,3))\n",
    "    plt.bar(var_value.index, var_value)\n",
    "    plt.xticks(var_value.index, var_value.index.values)\n",
    "    plt.ylabel(\"Frequency\")\n",
    "    plt.title(variable)\n",
    "    plt.show()\n",
    "    print(\"{}: \\n{}\".format(variable,var_value))"
   ]
  },
  {
   "cell_type": "code",
   "execution_count": 8,
   "id": "42b05847",
   "metadata": {
    "execution": {
     "iopub.execute_input": "2024-03-31T21:57:23.163995Z",
     "iopub.status.busy": "2024-03-31T21:57:23.163122Z",
     "iopub.status.idle": "2024-03-31T21:57:24.715805Z",
     "shell.execute_reply": "2024-03-31T21:57:24.714572Z"
    },
    "papermill": {
     "duration": 1.574576,
     "end_time": "2024-03-31T21:57:24.719873",
     "exception": false,
     "start_time": "2024-03-31T21:57:23.145297",
     "status": "completed"
    },
    "tags": []
   },
   "outputs": [
    {
     "data": {
      "image/png": "[encoded data removed]",
      "text/plain": [
       "<Figure size 900x300 with 1 Axes>"
      ]
     },
     "metadata": {},
     "output_type": "display_data"
    },
    {
     "name": "stdout",
     "output_type": "stream",
     "text": [
      "Survived: \n",
      "Survived\n",
      "0    549\n",
      "1    342\n",
      "Name: count, dtype: int64\n"
     ]
    },
    {
     "data": {
      "image/png": "[encoded data removed]",
      "text/plain": [
       "<Figure size 900x300 with 1 Axes>"
      ]
     },
     "metadata": {},
     "output_type": "display_data"
    },
    {
     "name": "stdout",
     "output_type": "stream",
     "text": [
      "Sex: \n",
      "Sex\n",
      "male      577\n",
      "female    314\n",
      "Name: count, dtype: int64\n"
     ]
    },
    {
     "data": {
      "image/png": "[encoded data removed]",
      "text/plain": [
       "<Figure size 900x300 with 1 Axes>"
      ]
     },
     "metadata": {},
     "output_type": "display_data"
    },
    {
     "name": "stdout",
     "output_type": "stream",
     "text": [
      "Pclass: \n",
      "Pclass\n",
      "3    491\n",
      "1    216\n",
      "2    184\n",
      "Name: count, dtype: int64\n"
     ]
    },
    {
     "data": {
      "image/png": "[encoded data removed]",
      "text/plain": [
       "<Figure size 900x300 with 1 Axes>"
      ]
     },
     "metadata": {},
     "output_type": "display_data"
    },
    {
     "name": "stdout",
     "output_type": "stream",
     "text": [
      "Embarked: \n",
      "Embarked\n",
      "S    644\n",
      "C    168\n",
      "Q     77\n",
      "Name: count, dtype: int64\n"
     ]
    },
    {
     "data": {
      "image/png": "[encoded data removed]",
      "text/plain": [
       "<Figure size 900x300 with 1 Axes>"
      ]
     },
     "metadata": {},
     "output_type": "display_data"
    },
    {
     "name": "stdout",
     "output_type": "stream",
     "text": [
      "SibSp: \n",
      "SibSp\n",
      "0    608\n",
      "1    209\n",
      "2     28\n",
      "4     18\n",
      "3     16\n",
      "8      7\n",
      "5      5\n",
      "Name: count, dtype: int64\n"
     ]
    },
    {
     "data": {
      "image/png": "[encoded data removed]",
      "text/plain": [
       "<Figure size 900x300 with 1 Axes>"
      ]
     },
     "metadata": {},
     "output_type": "display_data"
    },
    {
     "name": "stdout",
     "output_type": "stream",
     "text": [
      "Parch: \n",
      "Parch\n",
      "0    678\n",
      "1    118\n",
      "2     80\n",
      "5      5\n",
      "3      5\n",
      "4      4\n",
      "6      1\n",
      "Name: count, dtype: int64\n"
     ]
    }
   ],
   "source": [
    "category1 = [\"Survived\", \"Sex\", \"Pclass\", \"Embarked\", \"SibSp\", \"Parch\"]\n",
    "for c in category1:\n",
    "    bar_plot(c)"
   ]
  },
  {
   "cell_type": "code",
   "execution_count": 9,
   "id": "a7a7b9bf",
   "metadata": {
    "execution": {
     "iopub.execute_input": "2024-03-31T21:57:24.759595Z",
     "iopub.status.busy": "2024-03-31T21:57:24.759152Z",
     "iopub.status.idle": "2024-03-31T21:57:24.772431Z",
     "shell.execute_reply": "2024-03-31T21:57:24.770982Z"
    },
    "papermill": {
     "duration": 0.036827,
     "end_time": "2024-03-31T21:57:24.774982",
     "exception": false,
     "start_time": "2024-03-31T21:57:24.738155",
     "status": "completed"
    },
    "tags": []
   },
   "outputs": [
    {
     "name": "stdout",
     "output_type": "stream",
     "text": [
      "Cabin\n",
      "B96 B98        4\n",
      "G6             4\n",
      "C23 C25 C27    4\n",
      "C22 C26        3\n",
      "F33            3\n",
      "              ..\n",
      "E34            1\n",
      "C7             1\n",
      "C54            1\n",
      "E36            1\n",
      "C148           1\n",
      "Name: count, Length: 147, dtype: int64 \n",
      "\n",
      "Name\n",
      "Braund, Mr. Owen Harris                     1\n",
      "Boulos, Mr. Hanna                           1\n",
      "Frolicher-Stehli, Mr. Maxmillian            1\n",
      "Gilinski, Mr. Eliezer                       1\n",
      "Murdlin, Mr. Joseph                         1\n",
      "                                           ..\n",
      "Kelly, Miss. Anna Katherine \"Annie Kate\"    1\n",
      "McCoy, Mr. Bernard                          1\n",
      "Johnson, Mr. William Cahoone Jr             1\n",
      "Keane, Miss. Nora A                         1\n",
      "Dooley, Mr. Patrick                         1\n",
      "Name: count, Length: 891, dtype: int64 \n",
      "\n",
      "Ticket\n",
      "347082      7\n",
      "CA. 2343    7\n",
      "1601        7\n",
      "3101295     6\n",
      "CA 2144     6\n",
      "           ..\n",
      "9234        1\n",
      "19988       1\n",
      "2693        1\n",
      "PC 17612    1\n",
      "370376      1\n",
      "Name: count, Length: 681, dtype: int64 \n",
      "\n"
     ]
    }
   ],
   "source": [
    "category2 = [\"Cabin\", \"Name\", \"Ticket\"]\n",
    "for c in category2:\n",
    "    print(\"{} \\n\".format(train_df[c].value_counts()))"
   ]
  },
  {
   "cell_type": "markdown",
   "id": "eb81d765",
   "metadata": {
    "papermill": {
     "duration": 0.01879,
     "end_time": "2024-03-31T21:57:24.812269",
     "exception": false,
     "start_time": "2024-03-31T21:57:24.793479",
     "status": "completed"
    },
    "tags": []
   },
   "source": [
    "<a id = '5'></a><br>\n",
    "## Numerical Variable"
   ]
  },
  {
   "cell_type": "code",
   "execution_count": 10,
   "id": "0f5c6573",
   "metadata": {
    "execution": {
     "iopub.execute_input": "2024-03-31T21:57:24.852463Z",
     "iopub.status.busy": "2024-03-31T21:57:24.852001Z",
     "iopub.status.idle": "2024-03-31T21:57:24.858600Z",
     "shell.execute_reply": "2024-03-31T21:57:24.857381Z"
    },
    "papermill": {
     "duration": 0.030137,
     "end_time": "2024-03-31T21:57:24.860919",
     "exception": false,
     "start_time": "2024-03-31T21:57:24.830782",
     "status": "completed"
    },
    "tags": []
   },
   "outputs": [],
   "source": [
    "def plot_hist(variable):\n",
    "    plt.figure(figsize = (9, 3))\n",
    "    plt.hist(train_df[variable], bins = 50)\n",
    "    plt.xlabel(variable)\n",
    "    plt.ylabel(\"Frequency\")\n",
    "    plt.title(\"{} distribution with hist\".format(variable))\n",
    "    plt.show"
   ]
  },
  {
   "cell_type": "code",
   "execution_count": 11,
   "id": "d284dcd4",
   "metadata": {
    "execution": {
     "iopub.execute_input": "2024-03-31T21:57:24.899593Z",
     "iopub.status.busy": "2024-03-31T21:57:24.899123Z",
     "iopub.status.idle": "2024-03-31T21:57:26.152664Z",
     "shell.execute_reply": "2024-03-31T21:57:26.151347Z"
    },
    "papermill": {
     "duration": 1.276826,
     "end_time": "2024-03-31T21:57:26.156210",
     "exception": false,
     "start_time": "2024-03-31T21:57:24.879384",
     "status": "completed"
    },
    "tags": []
   },
   "outputs": [
    {
     "data": {
      "image/png": "[encoded data removed]",
      "text/plain": [
       "<Figure size 900x300 with 1 Axes>"
      ]
     },
     "metadata": {},
     "output_type": "display_data"
    },
    {
     "data": {
      "image/png": "[encoded data removed]",
      "text/plain": [
       "<Figure size 900x300 with 1 Axes>"
      ]
     },
     "metadata": {},
     "output_type": "display_data"
    },
    {
     "data": {
      "image/png": "[encoded data removed]",
      "text/plain": [
       "<Figure size 900x300 with 1 Axes>"
      ]
     },
     "metadata": {},
     "output_type": "display_data"
    }
   ],
   "source": [
    "numeric_variable = [\"Fare\", \"Age\", \"PassengerId\"]\n",
    "for n in numeric_variable:\n",
    "    plot_hist(n)"
   ]
  },
  {
   "cell_type": "markdown",
   "id": "36d4ad0d",
   "metadata": {
    "papermill": {
     "duration": 0.031135,
     "end_time": "2024-03-31T21:57:26.216034",
     "exception": false,
     "start_time": "2024-03-31T21:57:26.184899",
     "status": "completed"
    },
    "tags": []
   },
   "source": [
    "<a id = '6'></a><br>\n",
    "# Basic Data Analysis\n",
    "* Pclass - Survived\n",
    "* Sex - Survived\n",
    "* SibSp - Survived\n",
    "* Parch - Survived"
   ]
  },
  {
   "cell_type": "code",
   "execution_count": 12,
   "id": "8708d11f",
   "metadata": {
    "execution": {
     "iopub.execute_input": "2024-03-31T21:57:26.274752Z",
     "iopub.status.busy": "2024-03-31T21:57:26.274279Z",
     "iopub.status.idle": "2024-03-31T21:57:26.296085Z",
     "shell.execute_reply": "2024-03-31T21:57:26.294831Z"
    },
    "papermill": {
     "duration": 0.051509,
     "end_time": "2024-03-31T21:57:26.298721",
     "exception": false,
     "start_time": "2024-03-31T21:57:26.247212",
     "status": "completed"
    },
    "tags": []
   },
   "outputs": [
    {
     "data": {
      "text/html": [
       "<div>\n",
       "<style scoped>\n",
       "    .dataframe tbody tr th:only-of-type {\n",
       "        vertical-align: middle;\n",
       "    }\n",
       "\n",
       "    .dataframe tbody tr th {\n",
       "        vertical-align: top;\n",
       "    }\n",
       "\n",
       "    .dataframe thead th {\n",
       "        text-align: right;\n",
       "    }\n",
       "</style>\n",
       "<table border=\"1\" class=\"dataframe\">\n",
       "  <thead>\n",
       "    <tr style=\"text-align: right;\">\n",
       "      <th></th>\n",
       "      <th>Pclass</th>\n",
       "      <th>Survived</th>\n",
       "    </tr>\n",
       "  </thead>\n",
       "  <tbody>\n",
       "    <tr>\n",
       "      <th>0</th>\n",
       "      <td>1</td>\n",
       "      <td>0.629630</td>\n",
       "    </tr>\n",
       "    <tr>\n",
       "      <th>1</th>\n",
       "      <td>2</td>\n",
       "      <td>0.472826</td>\n",
       "    </tr>\n",
       "    <tr>\n",
       "      <th>2</th>\n",
       "      <td>3</td>\n",
       "      <td>0.242363</td>\n",
       "    </tr>\n",
       "  </tbody>\n",
       "</table>\n",
       "</div>"
      ],
      "text/plain": [
       "   Pclass  Survived\n",
       "0       1  0.629630\n",
       "1       2  0.472826\n",
       "2       3  0.242363"
      ]
     },
     "execution_count": 12,
     "metadata": {},
     "output_type": "execute_result"
    }
   ],
   "source": [
    "# Pclass vs Survived\n",
    "train_df[[\"Pclass\", \"Survived\"]].groupby([\"Pclass\"], as_index = False).mean().sort_values(by = \"Survived\", ascending = False)"
   ]
  },
  {
   "cell_type": "code",
   "execution_count": 13,
   "id": "f1eef212",
   "metadata": {
    "execution": {
     "iopub.execute_input": "2024-03-31T21:57:26.433758Z",
     "iopub.status.busy": "2024-03-31T21:57:26.432343Z",
     "iopub.status.idle": "2024-03-31T21:57:26.451174Z",
     "shell.execute_reply": "2024-03-31T21:57:26.449913Z"
    },
    "papermill": {
     "duration": 0.135448,
     "end_time": "2024-03-31T21:57:26.453756",
     "exception": false,
     "start_time": "2024-03-31T21:57:26.318308",
     "status": "completed"
    },
    "tags": []
   },
   "outputs": [
    {
     "data": {
      "text/html": [
       "<div>\n",
       "<style scoped>\n",
       "    .dataframe tbody tr th:only-of-type {\n",
       "        vertical-align: middle;\n",
       "    }\n",
       "\n",
       "    .dataframe tbody tr th {\n",
       "        vertical-align: top;\n",
       "    }\n",
       "\n",
       "    .dataframe thead th {\n",
       "        text-align: right;\n",
       "    }\n",
       "</style>\n",
       "<table border=\"1\" class=\"dataframe\">\n",
       "  <thead>\n",
       "    <tr style=\"text-align: right;\">\n",
       "      <th></th>\n",
       "      <th>Sex</th>\n",
       "      <th>Survived</th>\n",
       "    </tr>\n",
       "  </thead>\n",
       "  <tbody>\n",
       "    <tr>\n",
       "      <th>0</th>\n",
       "      <td>female</td>\n",
       "      <td>0.742038</td>\n",
       "    </tr>\n",
       "    <tr>\n",
       "      <th>1</th>\n",
       "      <td>male</td>\n",
       "      <td>0.188908</td>\n",
       "    </tr>\n",
       "  </tbody>\n",
       "</table>\n",
       "</div>"
      ],
      "text/plain": [
       "      Sex  Survived\n",
       "0  female  0.742038\n",
       "1    male  0.188908"
      ]
     },
     "execution_count": 13,
     "metadata": {},
     "output_type": "execute_result"
    }
   ],
   "source": [
    "# Sex vs Survived\n",
    "train_df[[\"Sex\", \"Survived\"]].groupby([\"Sex\"], as_index = False).mean().sort_values(by = \"Survived\", ascending = False)"
   ]
  },
  {
   "cell_type": "code",
   "execution_count": 14,
   "id": "ab2cee52",
   "metadata": {
    "execution": {
     "iopub.execute_input": "2024-03-31T21:57:26.496664Z",
     "iopub.status.busy": "2024-03-31T21:57:26.495750Z",
     "iopub.status.idle": "2024-03-31T21:57:26.512406Z",
     "shell.execute_reply": "2024-03-31T21:57:26.511151Z"
    },
    "papermill": {
     "duration": 0.041192,
     "end_time": "2024-03-31T21:57:26.515247",
     "exception": false,
     "start_time": "2024-03-31T21:57:26.474055",
     "status": "completed"
    },
    "tags": []
   },
   "outputs": [
    {
     "data": {
      "text/html": [
       "<div>\n",
       "<style scoped>\n",
       "    .dataframe tbody tr th:only-of-type {\n",
       "        vertical-align: middle;\n",
       "    }\n",
       "\n",
       "    .dataframe tbody tr th {\n",
       "        vertical-align: top;\n",
       "    }\n",
       "\n",
       "    .dataframe thead th {\n",
       "        text-align: right;\n",
       "    }\n",
       "</style>\n",
       "<table border=\"1\" class=\"dataframe\">\n",
       "  <thead>\n",
       "    <tr style=\"text-align: right;\">\n",
       "      <th></th>\n",
       "      <th>SibSp</th>\n",
       "      <th>Survived</th>\n",
       "    </tr>\n",
       "  </thead>\n",
       "  <tbody>\n",
       "    <tr>\n",
       "      <th>1</th>\n",
       "      <td>1</td>\n",
       "      <td>0.535885</td>\n",
       "    </tr>\n",
       "    <tr>\n",
       "      <th>2</th>\n",
       "      <td>2</td>\n",
       "      <td>0.464286</td>\n",
       "    </tr>\n",
       "    <tr>\n",
       "      <th>0</th>\n",
       "      <td>0</td>\n",
       "      <td>0.345395</td>\n",
       "    </tr>\n",
       "    <tr>\n",
       "      <th>3</th>\n",
       "      <td>3</td>\n",
       "      <td>0.250000</td>\n",
       "    </tr>\n",
       "    <tr>\n",
       "      <th>4</th>\n",
       "      <td>4</td>\n",
       "      <td>0.166667</td>\n",
       "    </tr>\n",
       "    <tr>\n",
       "      <th>5</th>\n",
       "      <td>5</td>\n",
       "      <td>0.000000</td>\n",
       "    </tr>\n",
       "    <tr>\n",
       "      <th>6</th>\n",
       "      <td>8</td>\n",
       "      <td>0.000000</td>\n",
       "    </tr>\n",
       "  </tbody>\n",
       "</table>\n",
       "</div>"
      ],
      "text/plain": [
       "   SibSp  Survived\n",
       "1      1  0.535885\n",
       "2      2  0.464286\n",
       "0      0  0.345395\n",
       "3      3  0.250000\n",
       "4      4  0.166667\n",
       "5      5  0.000000\n",
       "6      8  0.000000"
      ]
     },
     "execution_count": 14,
     "metadata": {},
     "output_type": "execute_result"
    }
   ],
   "source": [
    "# SibSp vs Survived\n",
    "train_df[[\"SibSp\", \"Survived\"]].groupby([\"SibSp\"], as_index = False).mean().sort_values(by = \"Survived\", ascending = False)"
   ]
  },
  {
   "cell_type": "code",
   "execution_count": 15,
   "id": "7ee4bdd0",
   "metadata": {
    "execution": {
     "iopub.execute_input": "2024-03-31T21:57:26.556792Z",
     "iopub.status.busy": "2024-03-31T21:57:26.556313Z",
     "iopub.status.idle": "2024-03-31T21:57:26.572428Z",
     "shell.execute_reply": "2024-03-31T21:57:26.571186Z"
    },
    "papermill": {
     "duration": 0.040016,
     "end_time": "2024-03-31T21:57:26.575060",
     "exception": false,
     "start_time": "2024-03-31T21:57:26.535044",
     "status": "completed"
    },
    "tags": []
   },
   "outputs": [
    {
     "data": {
      "text/html": [
       "<div>\n",
       "<style scoped>\n",
       "    .dataframe tbody tr th:only-of-type {\n",
       "        vertical-align: middle;\n",
       "    }\n",
       "\n",
       "    .dataframe tbody tr th {\n",
       "        vertical-align: top;\n",
       "    }\n",
       "\n",
       "    .dataframe thead th {\n",
       "        text-align: right;\n",
       "    }\n",
       "</style>\n",
       "<table border=\"1\" class=\"dataframe\">\n",
       "  <thead>\n",
       "    <tr style=\"text-align: right;\">\n",
       "      <th></th>\n",
       "      <th>Parch</th>\n",
       "      <th>Survived</th>\n",
       "    </tr>\n",
       "  </thead>\n",
       "  <tbody>\n",
       "    <tr>\n",
       "      <th>3</th>\n",
       "      <td>3</td>\n",
       "      <td>0.600000</td>\n",
       "    </tr>\n",
       "    <tr>\n",
       "      <th>1</th>\n",
       "      <td>1</td>\n",
       "      <td>0.550847</td>\n",
       "    </tr>\n",
       "    <tr>\n",
       "      <th>2</th>\n",
       "      <td>2</td>\n",
       "      <td>0.500000</td>\n",
       "    </tr>\n",
       "    <tr>\n",
       "      <th>0</th>\n",
       "      <td>0</td>\n",
       "      <td>0.343658</td>\n",
       "    </tr>\n",
       "    <tr>\n",
       "      <th>5</th>\n",
       "      <td>5</td>\n",
       "      <td>0.200000</td>\n",
       "    </tr>\n",
       "    <tr>\n",
       "      <th>4</th>\n",
       "      <td>4</td>\n",
       "      <td>0.000000</td>\n",
       "    </tr>\n",
       "    <tr>\n",
       "      <th>6</th>\n",
       "      <td>6</td>\n",
       "      <td>0.000000</td>\n",
       "    </tr>\n",
       "  </tbody>\n",
       "</table>\n",
       "</div>"
      ],
      "text/plain": [
       "   Parch  Survived\n",
       "3      3  0.600000\n",
       "1      1  0.550847\n",
       "2      2  0.500000\n",
       "0      0  0.343658\n",
       "5      5  0.200000\n",
       "4      4  0.000000\n",
       "6      6  0.000000"
      ]
     },
     "execution_count": 15,
     "metadata": {},
     "output_type": "execute_result"
    }
   ],
   "source": [
    "# Parch vs Survived\n",
    "train_df[[\"Parch\", \"Survived\"]].groupby([\"Parch\"], as_index = False).mean().sort_values(by = \"Survived\", ascending = False)"
   ]
  },
  {
   "cell_type": "markdown",
   "id": "5c5cd642",
   "metadata": {
    "papermill": {
     "duration": 0.01991,
     "end_time": "2024-03-31T21:57:26.617896",
     "exception": false,
     "start_time": "2024-03-31T21:57:26.597986",
     "status": "completed"
    },
    "tags": []
   },
   "source": [
    "<a id = '7'></a><br>\n",
    "# Outlier Detection"
   ]
  },
  {
   "cell_type": "code",
   "execution_count": 16,
   "id": "17dbfd1c",
   "metadata": {
    "execution": {
     "iopub.execute_input": "2024-03-31T21:57:26.661017Z",
     "iopub.status.busy": "2024-03-31T21:57:26.660549Z",
     "iopub.status.idle": "2024-03-31T21:57:26.668623Z",
     "shell.execute_reply": "2024-03-31T21:57:26.667502Z"
    },
    "papermill": {
     "duration": 0.032803,
     "end_time": "2024-03-31T21:57:26.670755",
     "exception": false,
     "start_time": "2024-03-31T21:57:26.637952",
     "status": "completed"
    },
    "tags": []
   },
   "outputs": [],
   "source": [
    "def detect_outliers(df,features):\n",
    "    outlier_indices = []\n",
    "    \n",
    "    for c in features:\n",
    "        # 1st quartile\n",
    "        Q1 = np.percentile(df[c], 25)\n",
    "        # 3rd quartile\n",
    "        Q3 = np.percentile(df[c], 75)\n",
    "        # IQR\n",
    "        IQR = Q3 - Q1\n",
    "        # Outlier step\n",
    "        outlier_step = IQR * 1.5\n",
    "        # Detect outlier and their indeces\n",
    "        outlier_list_columns = df[(df[c] < Q1 - outlier_step) | (df[c] > Q3 + outlier_step)].index\n",
    "        # store indeces\n",
    "        outlier_indices.extend(outlier_list_columns)\n",
    "    outlier_indices = Counter(outlier_indices)\n",
    "    multiple_outliers = list(i for i, v in outlier_indices.items() if v > 2)\n",
    "    return multiple_outliers"
   ]
  },
  {
   "cell_type": "code",
   "execution_count": 17,
   "id": "e7a9731c",
   "metadata": {
    "execution": {
     "iopub.execute_input": "2024-03-31T21:57:26.715990Z",
     "iopub.status.busy": "2024-03-31T21:57:26.714690Z",
     "iopub.status.idle": "2024-03-31T21:57:26.741188Z",
     "shell.execute_reply": "2024-03-31T21:57:26.739959Z"
    },
    "papermill": {
     "duration": 0.050982,
     "end_time": "2024-03-31T21:57:26.743654",
     "exception": false,
     "start_time": "2024-03-31T21:57:26.692672",
     "status": "completed"
    },
    "tags": []
   },
   "outputs": [
    {
     "data": {
      "text/html": [
       "<div>\n",
       "<style scoped>\n",
       "    .dataframe tbody tr th:only-of-type {\n",
       "        vertical-align: middle;\n",
       "    }\n",
       "\n",
       "    .dataframe tbody tr th {\n",
       "        vertical-align: top;\n",
       "    }\n",
       "\n",
       "    .dataframe thead th {\n",
       "        text-align: right;\n",
       "    }\n",
       "</style>\n",
       "<table border=\"1\" class=\"dataframe\">\n",
       "  <thead>\n",
       "    <tr style=\"text-align: right;\">\n",
       "      <th></th>\n",
       "      <th>PassengerId</th>\n",
       "      <th>Survived</th>\n",
       "      <th>Pclass</th>\n",
       "      <th>Name</th>\n",
       "      <th>Sex</th>\n",
       "      <th>Age</th>\n",
       "      <th>SibSp</th>\n",
       "      <th>Parch</th>\n",
       "      <th>Ticket</th>\n",
       "      <th>Fare</th>\n",
       "      <th>Cabin</th>\n",
       "      <th>Embarked</th>\n",
       "    </tr>\n",
       "  </thead>\n",
       "  <tbody>\n",
       "    <tr>\n",
       "      <th>27</th>\n",
       "      <td>28</td>\n",
       "      <td>0</td>\n",
       "      <td>1</td>\n",
       "      <td>Fortune, Mr. Charles Alexander</td>\n",
       "      <td>male</td>\n",
       "      <td>19.0</td>\n",
       "      <td>3</td>\n",
       "      <td>2</td>\n",
       "      <td>19950</td>\n",
       "      <td>263.00</td>\n",
       "      <td>C23 C25 C27</td>\n",
       "      <td>S</td>\n",
       "    </tr>\n",
       "    <tr>\n",
       "      <th>88</th>\n",
       "      <td>89</td>\n",
       "      <td>1</td>\n",
       "      <td>1</td>\n",
       "      <td>Fortune, Miss. Mabel Helen</td>\n",
       "      <td>female</td>\n",
       "      <td>23.0</td>\n",
       "      <td>3</td>\n",
       "      <td>2</td>\n",
       "      <td>19950</td>\n",
       "      <td>263.00</td>\n",
       "      <td>C23 C25 C27</td>\n",
       "      <td>S</td>\n",
       "    </tr>\n",
       "    <tr>\n",
       "      <th>159</th>\n",
       "      <td>160</td>\n",
       "      <td>0</td>\n",
       "      <td>3</td>\n",
       "      <td>Sage, Master. Thomas Henry</td>\n",
       "      <td>male</td>\n",
       "      <td>NaN</td>\n",
       "      <td>8</td>\n",
       "      <td>2</td>\n",
       "      <td>CA. 2343</td>\n",
       "      <td>69.55</td>\n",
       "      <td>NaN</td>\n",
       "      <td>S</td>\n",
       "    </tr>\n",
       "    <tr>\n",
       "      <th>180</th>\n",
       "      <td>181</td>\n",
       "      <td>0</td>\n",
       "      <td>3</td>\n",
       "      <td>Sage, Miss. Constance Gladys</td>\n",
       "      <td>female</td>\n",
       "      <td>NaN</td>\n",
       "      <td>8</td>\n",
       "      <td>2</td>\n",
       "      <td>CA. 2343</td>\n",
       "      <td>69.55</td>\n",
       "      <td>NaN</td>\n",
       "      <td>S</td>\n",
       "    </tr>\n",
       "    <tr>\n",
       "      <th>201</th>\n",
       "      <td>202</td>\n",
       "      <td>0</td>\n",
       "      <td>3</td>\n",
       "      <td>Sage, Mr. Frederick</td>\n",
       "      <td>male</td>\n",
       "      <td>NaN</td>\n",
       "      <td>8</td>\n",
       "      <td>2</td>\n",
       "      <td>CA. 2343</td>\n",
       "      <td>69.55</td>\n",
       "      <td>NaN</td>\n",
       "      <td>S</td>\n",
       "    </tr>\n",
       "    <tr>\n",
       "      <th>324</th>\n",
       "      <td>325</td>\n",
       "      <td>0</td>\n",
       "      <td>3</td>\n",
       "      <td>Sage, Mr. George John Jr</td>\n",
       "      <td>male</td>\n",
       "      <td>NaN</td>\n",
       "      <td>8</td>\n",
       "      <td>2</td>\n",
       "      <td>CA. 2343</td>\n",
       "      <td>69.55</td>\n",
       "      <td>NaN</td>\n",
       "      <td>S</td>\n",
       "    </tr>\n",
       "    <tr>\n",
       "      <th>341</th>\n",
       "      <td>342</td>\n",
       "      <td>1</td>\n",
       "      <td>1</td>\n",
       "      <td>Fortune, Miss. Alice Elizabeth</td>\n",
       "      <td>female</td>\n",
       "      <td>24.0</td>\n",
       "      <td>3</td>\n",
       "      <td>2</td>\n",
       "      <td>19950</td>\n",
       "      <td>263.00</td>\n",
       "      <td>C23 C25 C27</td>\n",
       "      <td>S</td>\n",
       "    </tr>\n",
       "    <tr>\n",
       "      <th>792</th>\n",
       "      <td>793</td>\n",
       "      <td>0</td>\n",
       "      <td>3</td>\n",
       "      <td>Sage, Miss. Stella Anna</td>\n",
       "      <td>female</td>\n",
       "      <td>NaN</td>\n",
       "      <td>8</td>\n",
       "      <td>2</td>\n",
       "      <td>CA. 2343</td>\n",
       "      <td>69.55</td>\n",
       "      <td>NaN</td>\n",
       "      <td>S</td>\n",
       "    </tr>\n",
       "    <tr>\n",
       "      <th>846</th>\n",
       "      <td>847</td>\n",
       "      <td>0</td>\n",
       "      <td>3</td>\n",
       "      <td>Sage, Mr. Douglas Bullen</td>\n",
       "      <td>male</td>\n",
       "      <td>NaN</td>\n",
       "      <td>8</td>\n",
       "      <td>2</td>\n",
       "      <td>CA. 2343</td>\n",
       "      <td>69.55</td>\n",
       "      <td>NaN</td>\n",
       "      <td>S</td>\n",
       "    </tr>\n",
       "    <tr>\n",
       "      <th>863</th>\n",
       "      <td>864</td>\n",
       "      <td>0</td>\n",
       "      <td>3</td>\n",
       "      <td>Sage, Miss. Dorothy Edith \"Dolly\"</td>\n",
       "      <td>female</td>\n",
       "      <td>NaN</td>\n",
       "      <td>8</td>\n",
       "      <td>2</td>\n",
       "      <td>CA. 2343</td>\n",
       "      <td>69.55</td>\n",
       "      <td>NaN</td>\n",
       "      <td>S</td>\n",
       "    </tr>\n",
       "  </tbody>\n",
       "</table>\n",
       "</div>"
      ],
      "text/plain": [
       "     PassengerId  Survived  Pclass                               Name     Sex  \\\n",
       "27            28         0       1     Fortune, Mr. Charles Alexander    male   \n",
       "88            89         1       1         Fortune, Miss. Mabel Helen  female   \n",
       "159          160         0       3         Sage, Master. Thomas Henry    male   \n",
       "180          181         0       3       Sage, Miss. Constance Gladys  female   \n",
       "201          202         0       3                Sage, Mr. Frederick    male   \n",
       "324          325         0       3           Sage, Mr. George John Jr    male   \n",
       "341          342         1       1     Fortune, Miss. Alice Elizabeth  female   \n",
       "792          793         0       3            Sage, Miss. Stella Anna  female   \n",
       "846          847         0       3           Sage, Mr. Douglas Bullen    male   \n",
       "863          864         0       3  Sage, Miss. Dorothy Edith \"Dolly\"  female   \n",
       "\n",
       "      Age  SibSp  Parch    Ticket    Fare        Cabin Embarked  \n",
       "27   19.0      3      2     19950  263.00  C23 C25 C27        S  \n",
       "88   23.0      3      2     19950  263.00  C23 C25 C27        S  \n",
       "159   NaN      8      2  CA. 2343   69.55          NaN        S  \n",
       "180   NaN      8      2  CA. 2343   69.55          NaN        S  \n",
       "201   NaN      8      2  CA. 2343   69.55          NaN        S  \n",
       "324   NaN      8      2  CA. 2343   69.55          NaN        S  \n",
       "341  24.0      3      2     19950  263.00  C23 C25 C27        S  \n",
       "792   NaN      8      2  CA. 2343   69.55          NaN        S  \n",
       "846   NaN      8      2  CA. 2343   69.55          NaN        S  \n",
       "863   NaN      8      2  CA. 2343   69.55          NaN        S  "
      ]
     },
     "execution_count": 17,
     "metadata": {},
     "output_type": "execute_result"
    }
   ],
   "source": [
    "train_df.loc[detect_outliers(train_df, [\"Age\", \"SibSp\", \"Fare\", \"Parch\"])]"
   ]
  },
  {
   "cell_type": "code",
   "execution_count": 18,
   "id": "3519c418",
   "metadata": {
    "execution": {
     "iopub.execute_input": "2024-03-31T21:57:26.787181Z",
     "iopub.status.busy": "2024-03-31T21:57:26.786694Z",
     "iopub.status.idle": "2024-03-31T21:57:26.801887Z",
     "shell.execute_reply": "2024-03-31T21:57:26.800689Z"
    },
    "papermill": {
     "duration": 0.040754,
     "end_time": "2024-03-31T21:57:26.804857",
     "exception": false,
     "start_time": "2024-03-31T21:57:26.764103",
     "status": "completed"
    },
    "tags": []
   },
   "outputs": [],
   "source": [
    "# drop outliers\n",
    "train_df = train_df.drop(detect_outliers(train_df, [\"Age\", \"SibSp\", \"Fare\", \"Parch\"]), axis = 0).reset_index(drop = True)"
   ]
  },
  {
   "cell_type": "markdown",
   "id": "56793d2e",
   "metadata": {
    "papermill": {
     "duration": 0.019958,
     "end_time": "2024-03-31T21:57:26.845586",
     "exception": false,
     "start_time": "2024-03-31T21:57:26.825628",
     "status": "completed"
    },
    "tags": []
   },
   "source": [
    "<a id = '8'></a><br>\n",
    "# Missing Value\n",
    "* Find Missing Value\n",
    "* Fill Missing Value"
   ]
  },
  {
   "cell_type": "code",
   "execution_count": 19,
   "id": "8b6cde6b",
   "metadata": {
    "execution": {
     "iopub.execute_input": "2024-03-31T21:57:26.891811Z",
     "iopub.status.busy": "2024-03-31T21:57:26.891375Z",
     "iopub.status.idle": "2024-03-31T21:57:26.901554Z",
     "shell.execute_reply": "2024-03-31T21:57:26.900600Z"
    },
    "papermill": {
     "duration": 0.034424,
     "end_time": "2024-03-31T21:57:26.903811",
     "exception": false,
     "start_time": "2024-03-31T21:57:26.869387",
     "status": "completed"
    },
    "tags": []
   },
   "outputs": [],
   "source": [
    "train_df_len = len(train_df)\n",
    "train_df = pd.concat([train_df, test_df], axis = 0).reset_index(drop = True)"
   ]
  },
  {
   "cell_type": "code",
   "execution_count": 20,
   "id": "3a010ad8",
   "metadata": {
    "execution": {
     "iopub.execute_input": "2024-03-31T21:57:26.948007Z",
     "iopub.status.busy": "2024-03-31T21:57:26.947280Z",
     "iopub.status.idle": "2024-03-31T21:57:26.964269Z",
     "shell.execute_reply": "2024-03-31T21:57:26.963308Z"
    },
    "papermill": {
     "duration": 0.042206,
     "end_time": "2024-03-31T21:57:26.966778",
     "exception": false,
     "start_time": "2024-03-31T21:57:26.924572",
     "status": "completed"
    },
    "tags": []
   },
   "outputs": [
    {
     "data": {
      "text/html": [
       "<div>\n",
       "<style scoped>\n",
       "    .dataframe tbody tr th:only-of-type {\n",
       "        vertical-align: middle;\n",
       "    }\n",
       "\n",
       "    .dataframe tbody tr th {\n",
       "        vertical-align: top;\n",
       "    }\n",
       "\n",
       "    .dataframe thead th {\n",
       "        text-align: right;\n",
       "    }\n",
       "</style>\n",
       "<table border=\"1\" class=\"dataframe\">\n",
       "  <thead>\n",
       "    <tr style=\"text-align: right;\">\n",
       "      <th></th>\n",
       "      <th>PassengerId</th>\n",
       "      <th>Survived</th>\n",
       "      <th>Pclass</th>\n",
       "      <th>Name</th>\n",
       "      <th>Sex</th>\n",
       "      <th>Age</th>\n",
       "      <th>SibSp</th>\n",
       "      <th>Parch</th>\n",
       "      <th>Ticket</th>\n",
       "      <th>Fare</th>\n",
       "      <th>Cabin</th>\n",
       "      <th>Embarked</th>\n",
       "    </tr>\n",
       "  </thead>\n",
       "  <tbody>\n",
       "    <tr>\n",
       "      <th>0</th>\n",
       "      <td>1</td>\n",
       "      <td>0.0</td>\n",
       "      <td>3</td>\n",
       "      <td>Braund, Mr. Owen Harris</td>\n",
       "      <td>male</td>\n",
       "      <td>22.0</td>\n",
       "      <td>1</td>\n",
       "      <td>0</td>\n",
       "      <td>A/5 21171</td>\n",
       "      <td>7.2500</td>\n",
       "      <td>NaN</td>\n",
       "      <td>S</td>\n",
       "    </tr>\n",
       "    <tr>\n",
       "      <th>1</th>\n",
       "      <td>2</td>\n",
       "      <td>1.0</td>\n",
       "      <td>1</td>\n",
       "      <td>Cumings, Mrs. John Bradley (Florence Briggs Th...</td>\n",
       "      <td>female</td>\n",
       "      <td>38.0</td>\n",
       "      <td>1</td>\n",
       "      <td>0</td>\n",
       "      <td>PC 17599</td>\n",
       "      <td>71.2833</td>\n",
       "      <td>C85</td>\n",
       "      <td>C</td>\n",
       "    </tr>\n",
       "    <tr>\n",
       "      <th>2</th>\n",
       "      <td>3</td>\n",
       "      <td>1.0</td>\n",
       "      <td>3</td>\n",
       "      <td>Heikkinen, Miss. Laina</td>\n",
       "      <td>female</td>\n",
       "      <td>26.0</td>\n",
       "      <td>0</td>\n",
       "      <td>0</td>\n",
       "      <td>STON/O2. 3101282</td>\n",
       "      <td>7.9250</td>\n",
       "      <td>NaN</td>\n",
       "      <td>S</td>\n",
       "    </tr>\n",
       "    <tr>\n",
       "      <th>3</th>\n",
       "      <td>4</td>\n",
       "      <td>1.0</td>\n",
       "      <td>1</td>\n",
       "      <td>Futrelle, Mrs. Jacques Heath (Lily May Peel)</td>\n",
       "      <td>female</td>\n",
       "      <td>35.0</td>\n",
       "      <td>1</td>\n",
       "      <td>0</td>\n",
       "      <td>113803</td>\n",
       "      <td>53.1000</td>\n",
       "      <td>C123</td>\n",
       "      <td>S</td>\n",
       "    </tr>\n",
       "    <tr>\n",
       "      <th>4</th>\n",
       "      <td>5</td>\n",
       "      <td>0.0</td>\n",
       "      <td>3</td>\n",
       "      <td>Allen, Mr. William Henry</td>\n",
       "      <td>male</td>\n",
       "      <td>35.0</td>\n",
       "      <td>0</td>\n",
       "      <td>0</td>\n",
       "      <td>373450</td>\n",
       "      <td>8.0500</td>\n",
       "      <td>NaN</td>\n",
       "      <td>S</td>\n",
       "    </tr>\n",
       "  </tbody>\n",
       "</table>\n",
       "</div>"
      ],
      "text/plain": [
       "   PassengerId  Survived  Pclass  \\\n",
       "0            1       0.0       3   \n",
       "1            2       1.0       1   \n",
       "2            3       1.0       3   \n",
       "3            4       1.0       1   \n",
       "4            5       0.0       3   \n",
       "\n",
       "                                                Name     Sex   Age  SibSp  \\\n",
       "0                            Braund, Mr. Owen Harris    male  22.0      1   \n",
       "1  Cumings, Mrs. John Bradley (Florence Briggs Th...  female  38.0      1   \n",
       "2                             Heikkinen, Miss. Laina  female  26.0      0   \n",
       "3       Futrelle, Mrs. Jacques Heath (Lily May Peel)  female  35.0      1   \n",
       "4                           Allen, Mr. William Henry    male  35.0      0   \n",
       "\n",
       "   Parch            Ticket     Fare Cabin Embarked  \n",
       "0      0         A/5 21171   7.2500   NaN        S  \n",
       "1      0          PC 17599  71.2833   C85        C  \n",
       "2      0  STON/O2. 3101282   7.9250   NaN        S  \n",
       "3      0            113803  53.1000  C123        S  \n",
       "4      0            373450   8.0500   NaN        S  "
      ]
     },
     "execution_count": 20,
     "metadata": {},
     "output_type": "execute_result"
    }
   ],
   "source": [
    "train_df.head()"
   ]
  },
  {
   "cell_type": "markdown",
   "id": "881236fa",
   "metadata": {
    "papermill": {
     "duration": 0.020914,
     "end_time": "2024-03-31T21:57:27.009630",
     "exception": false,
     "start_time": "2024-03-31T21:57:26.988716",
     "status": "completed"
    },
    "tags": []
   },
   "source": [
    "<a id = '9'></a><br>\n",
    "## Find Missing Value"
   ]
  },
  {
   "cell_type": "code",
   "execution_count": 21,
   "id": "f17c1aa1",
   "metadata": {
    "execution": {
     "iopub.execute_input": "2024-03-31T21:57:27.053986Z",
     "iopub.status.busy": "2024-03-31T21:57:27.053499Z",
     "iopub.status.idle": "2024-03-31T21:57:27.062616Z",
     "shell.execute_reply": "2024-03-31T21:57:27.061760Z"
    },
    "papermill": {
     "duration": 0.034185,
     "end_time": "2024-03-31T21:57:27.064831",
     "exception": false,
     "start_time": "2024-03-31T21:57:27.030646",
     "status": "completed"
    },
    "tags": []
   },
   "outputs": [
    {
     "data": {
      "text/plain": [
       "Index(['Survived', 'Age', 'Fare', 'Cabin', 'Embarked'], dtype='object')"
      ]
     },
     "execution_count": 21,
     "metadata": {},
     "output_type": "execute_result"
    }
   ],
   "source": [
    "train_df.columns[train_df.isnull().any()]"
   ]
  },
  {
   "cell_type": "code",
   "execution_count": 22,
   "id": "00064715",
   "metadata": {
    "execution": {
     "iopub.execute_input": "2024-03-31T21:57:27.108900Z",
     "iopub.status.busy": "2024-03-31T21:57:27.107894Z",
     "iopub.status.idle": "2024-03-31T21:57:27.117380Z",
     "shell.execute_reply": "2024-03-31T21:57:27.116309Z"
    },
    "papermill": {
     "duration": 0.033953,
     "end_time": "2024-03-31T21:57:27.119602",
     "exception": false,
     "start_time": "2024-03-31T21:57:27.085649",
     "status": "completed"
    },
    "tags": []
   },
   "outputs": [
    {
     "data": {
      "text/plain": [
       "PassengerId       0\n",
       "Survived        418\n",
       "Pclass            0\n",
       "Name              0\n",
       "Sex               0\n",
       "Age             256\n",
       "SibSp             0\n",
       "Parch             0\n",
       "Ticket            0\n",
       "Fare              1\n",
       "Cabin          1007\n",
       "Embarked          2\n",
       "dtype: int64"
      ]
     },
     "execution_count": 22,
     "metadata": {},
     "output_type": "execute_result"
    }
   ],
   "source": [
    "train_df.isnull().sum()"
   ]
  },
  {
   "cell_type": "markdown",
   "id": "8b96cdfa",
   "metadata": {
    "papermill": {
     "duration": 0.02155,
     "end_time": "2024-03-31T21:57:27.162188",
     "exception": false,
     "start_time": "2024-03-31T21:57:27.140638",
     "status": "completed"
    },
    "tags": []
   },
   "source": [
    "<a id = '10'></a><br>\n",
    "## Fill Missing Value\n",
    "* Embarked has 2 missing value\n",
    "* Fare has only 1"
   ]
  },
  {
   "cell_type": "code",
   "execution_count": 23,
   "id": "8e3a1002",
   "metadata": {
    "execution": {
     "iopub.execute_input": "2024-03-31T21:57:27.207369Z",
     "iopub.status.busy": "2024-03-31T21:57:27.206635Z",
     "iopub.status.idle": "2024-03-31T21:57:27.224400Z",
     "shell.execute_reply": "2024-03-31T21:57:27.223211Z"
    },
    "papermill": {
     "duration": 0.044034,
     "end_time": "2024-03-31T21:57:27.227780",
     "exception": false,
     "start_time": "2024-03-31T21:57:27.183746",
     "status": "completed"
    },
    "tags": []
   },
   "outputs": [
    {
     "data": {
      "text/html": [
       "<div>\n",
       "<style scoped>\n",
       "    .dataframe tbody tr th:only-of-type {\n",
       "        vertical-align: middle;\n",
       "    }\n",
       "\n",
       "    .dataframe tbody tr th {\n",
       "        vertical-align: top;\n",
       "    }\n",
       "\n",
       "    .dataframe thead th {\n",
       "        text-align: right;\n",
       "    }\n",
       "</style>\n",
       "<table border=\"1\" class=\"dataframe\">\n",
       "  <thead>\n",
       "    <tr style=\"text-align: right;\">\n",
       "      <th></th>\n",
       "      <th>PassengerId</th>\n",
       "      <th>Survived</th>\n",
       "      <th>Pclass</th>\n",
       "      <th>Name</th>\n",
       "      <th>Sex</th>\n",
       "      <th>Age</th>\n",
       "      <th>SibSp</th>\n",
       "      <th>Parch</th>\n",
       "      <th>Ticket</th>\n",
       "      <th>Fare</th>\n",
       "      <th>Cabin</th>\n",
       "      <th>Embarked</th>\n",
       "    </tr>\n",
       "  </thead>\n",
       "  <tbody>\n",
       "    <tr>\n",
       "      <th>60</th>\n",
       "      <td>62</td>\n",
       "      <td>1.0</td>\n",
       "      <td>1</td>\n",
       "      <td>Icard, Miss. Amelie</td>\n",
       "      <td>female</td>\n",
       "      <td>38.0</td>\n",
       "      <td>0</td>\n",
       "      <td>0</td>\n",
       "      <td>113572</td>\n",
       "      <td>80.0</td>\n",
       "      <td>B28</td>\n",
       "      <td>NaN</td>\n",
       "    </tr>\n",
       "    <tr>\n",
       "      <th>821</th>\n",
       "      <td>830</td>\n",
       "      <td>1.0</td>\n",
       "      <td>1</td>\n",
       "      <td>Stone, Mrs. George Nelson (Martha Evelyn)</td>\n",
       "      <td>female</td>\n",
       "      <td>62.0</td>\n",
       "      <td>0</td>\n",
       "      <td>0</td>\n",
       "      <td>113572</td>\n",
       "      <td>80.0</td>\n",
       "      <td>B28</td>\n",
       "      <td>NaN</td>\n",
       "    </tr>\n",
       "  </tbody>\n",
       "</table>\n",
       "</div>"
      ],
      "text/plain": [
       "     PassengerId  Survived  Pclass                                       Name  \\\n",
       "60            62       1.0       1                        Icard, Miss. Amelie   \n",
       "821          830       1.0       1  Stone, Mrs. George Nelson (Martha Evelyn)   \n",
       "\n",
       "        Sex   Age  SibSp  Parch  Ticket  Fare Cabin Embarked  \n",
       "60   female  38.0      0      0  113572  80.0   B28      NaN  \n",
       "821  female  62.0      0      0  113572  80.0   B28      NaN  "
      ]
     },
     "execution_count": 23,
     "metadata": {},
     "output_type": "execute_result"
    }
   ],
   "source": [
    "train_df[train_df['Embarked'].isnull()]"
   ]
  },
  {
   "cell_type": "code",
   "execution_count": 24,
   "id": "eb0824e2",
   "metadata": {
    "execution": {
     "iopub.execute_input": "2024-03-31T21:57:27.276430Z",
     "iopub.status.busy": "2024-03-31T21:57:27.275958Z",
     "iopub.status.idle": "2024-03-31T21:57:27.639294Z",
     "shell.execute_reply": "2024-03-31T21:57:27.637933Z"
    },
    "papermill": {
     "duration": 0.390521,
     "end_time": "2024-03-31T21:57:27.642231",
     "exception": false,
     "start_time": "2024-03-31T21:57:27.251710",
     "status": "completed"
    },
    "tags": []
   },
   "outputs": [
    {
     "data": {
      "image/png": "[encoded data removed]",
      "text/plain": [
       "<Figure size 800x600 with 1 Axes>"
      ]
     },
     "metadata": {},
     "output_type": "display_data"
    }
   ],
   "source": [
    "# fill in the missing values according to the fare feature\n",
    "fare_by_embarked = train_df[[\"Embarked\", \"Fare\"]]\n",
    "\n",
    "plt.figure(figsize=(8, 6))\n",
    "sns.barplot(data=fare_by_embarked, x=\"Embarked\", y=\"Fare\")\n",
    "plt.xlabel(\"Embarked\")\n",
    "plt.ylabel(\"Fare\")\n",
    "plt.title(\"Fare by Embarked\")\n",
    "\n",
    "plt.show()"
   ]
  },
  {
   "cell_type": "code",
   "execution_count": 25,
   "id": "0bcca24d",
   "metadata": {
    "execution": {
     "iopub.execute_input": "2024-03-31T21:57:27.689248Z",
     "iopub.status.busy": "2024-03-31T21:57:27.687927Z",
     "iopub.status.idle": "2024-03-31T21:57:27.705372Z",
     "shell.execute_reply": "2024-03-31T21:57:27.704122Z"
    },
    "papermill": {
     "duration": 0.044088,
     "end_time": "2024-03-31T21:57:27.707929",
     "exception": false,
     "start_time": "2024-03-31T21:57:27.663841",
     "status": "completed"
    },
    "tags": []
   },
   "outputs": [
    {
     "data": {
      "text/html": [
       "<div>\n",
       "<style scoped>\n",
       "    .dataframe tbody tr th:only-of-type {\n",
       "        vertical-align: middle;\n",
       "    }\n",
       "\n",
       "    .dataframe tbody tr th {\n",
       "        vertical-align: top;\n",
       "    }\n",
       "\n",
       "    .dataframe thead th {\n",
       "        text-align: right;\n",
       "    }\n",
       "</style>\n",
       "<table border=\"1\" class=\"dataframe\">\n",
       "  <thead>\n",
       "    <tr style=\"text-align: right;\">\n",
       "      <th></th>\n",
       "      <th>PassengerId</th>\n",
       "      <th>Survived</th>\n",
       "      <th>Pclass</th>\n",
       "      <th>Name</th>\n",
       "      <th>Sex</th>\n",
       "      <th>Age</th>\n",
       "      <th>SibSp</th>\n",
       "      <th>Parch</th>\n",
       "      <th>Ticket</th>\n",
       "      <th>Fare</th>\n",
       "      <th>Cabin</th>\n",
       "      <th>Embarked</th>\n",
       "    </tr>\n",
       "  </thead>\n",
       "  <tbody>\n",
       "  </tbody>\n",
       "</table>\n",
       "</div>"
      ],
      "text/plain": [
       "Empty DataFrame\n",
       "Columns: [PassengerId, Survived, Pclass, Name, Sex, Age, SibSp, Parch, Ticket, Fare, Cabin, Embarked]\n",
       "Index: []"
      ]
     },
     "execution_count": 25,
     "metadata": {},
     "output_type": "execute_result"
    }
   ],
   "source": [
    "train_df[\"Embarked\"] = train_df[\"Embarked\"].fillna(\"C\")\n",
    "train_df[train_df['Embarked'].isnull()]"
   ]
  },
  {
   "cell_type": "code",
   "execution_count": 26,
   "id": "2be7022e",
   "metadata": {
    "execution": {
     "iopub.execute_input": "2024-03-31T21:57:27.754824Z",
     "iopub.status.busy": "2024-03-31T21:57:27.754346Z",
     "iopub.status.idle": "2024-03-31T21:57:27.771710Z",
     "shell.execute_reply": "2024-03-31T21:57:27.770520Z"
    },
    "papermill": {
     "duration": 0.044054,
     "end_time": "2024-03-31T21:57:27.774187",
     "exception": false,
     "start_time": "2024-03-31T21:57:27.730133",
     "status": "completed"
    },
    "tags": []
   },
   "outputs": [
    {
     "data": {
      "text/html": [
       "<div>\n",
       "<style scoped>\n",
       "    .dataframe tbody tr th:only-of-type {\n",
       "        vertical-align: middle;\n",
       "    }\n",
       "\n",
       "    .dataframe tbody tr th {\n",
       "        vertical-align: top;\n",
       "    }\n",
       "\n",
       "    .dataframe thead th {\n",
       "        text-align: right;\n",
       "    }\n",
       "</style>\n",
       "<table border=\"1\" class=\"dataframe\">\n",
       "  <thead>\n",
       "    <tr style=\"text-align: right;\">\n",
       "      <th></th>\n",
       "      <th>PassengerId</th>\n",
       "      <th>Survived</th>\n",
       "      <th>Pclass</th>\n",
       "      <th>Name</th>\n",
       "      <th>Sex</th>\n",
       "      <th>Age</th>\n",
       "      <th>SibSp</th>\n",
       "      <th>Parch</th>\n",
       "      <th>Ticket</th>\n",
       "      <th>Fare</th>\n",
       "      <th>Cabin</th>\n",
       "      <th>Embarked</th>\n",
       "    </tr>\n",
       "  </thead>\n",
       "  <tbody>\n",
       "    <tr>\n",
       "      <th>1033</th>\n",
       "      <td>1044</td>\n",
       "      <td>NaN</td>\n",
       "      <td>3</td>\n",
       "      <td>Storey, Mr. Thomas</td>\n",
       "      <td>male</td>\n",
       "      <td>60.5</td>\n",
       "      <td>0</td>\n",
       "      <td>0</td>\n",
       "      <td>3701</td>\n",
       "      <td>NaN</td>\n",
       "      <td>NaN</td>\n",
       "      <td>S</td>\n",
       "    </tr>\n",
       "  </tbody>\n",
       "</table>\n",
       "</div>"
      ],
      "text/plain": [
       "      PassengerId  Survived  Pclass                Name   Sex   Age  SibSp  \\\n",
       "1033         1044       NaN       3  Storey, Mr. Thomas  male  60.5      0   \n",
       "\n",
       "      Parch Ticket  Fare Cabin Embarked  \n",
       "1033      0   3701   NaN   NaN        S  "
      ]
     },
     "execution_count": 26,
     "metadata": {},
     "output_type": "execute_result"
    }
   ],
   "source": [
    "train_df[train_df['Fare'].isnull()]"
   ]
  },
  {
   "cell_type": "code",
   "execution_count": 27,
   "id": "4c0ca385",
   "metadata": {
    "execution": {
     "iopub.execute_input": "2024-03-31T21:57:27.822261Z",
     "iopub.status.busy": "2024-03-31T21:57:27.821700Z",
     "iopub.status.idle": "2024-03-31T21:57:27.830922Z",
     "shell.execute_reply": "2024-03-31T21:57:27.830031Z"
    },
    "papermill": {
     "duration": 0.036591,
     "end_time": "2024-03-31T21:57:27.833655",
     "exception": false,
     "start_time": "2024-03-31T21:57:27.797064",
     "status": "completed"
    },
    "tags": []
   },
   "outputs": [],
   "source": [
    "# We found the average ticket price for those with Pclass 3, and then added the missing value\n",
    "train_df['Fare'] = train_df['Fare'].fillna(np.mean(train_df[train_df[\"Pclass\"] == 3][\"Fare\"]))"
   ]
  },
  {
   "cell_type": "code",
   "execution_count": 28,
   "id": "0e3fd6a5",
   "metadata": {
    "execution": {
     "iopub.execute_input": "2024-03-31T21:57:27.880682Z",
     "iopub.status.busy": "2024-03-31T21:57:27.880229Z",
     "iopub.status.idle": "2024-03-31T21:57:27.892634Z",
     "shell.execute_reply": "2024-03-31T21:57:27.891612Z"
    },
    "papermill": {
     "duration": 0.038874,
     "end_time": "2024-03-31T21:57:27.894588",
     "exception": false,
     "start_time": "2024-03-31T21:57:27.855714",
     "status": "completed"
    },
    "tags": []
   },
   "outputs": [
    {
     "data": {
      "text/html": [
       "<div>\n",
       "<style scoped>\n",
       "    .dataframe tbody tr th:only-of-type {\n",
       "        vertical-align: middle;\n",
       "    }\n",
       "\n",
       "    .dataframe tbody tr th {\n",
       "        vertical-align: top;\n",
       "    }\n",
       "\n",
       "    .dataframe thead th {\n",
       "        text-align: right;\n",
       "    }\n",
       "</style>\n",
       "<table border=\"1\" class=\"dataframe\">\n",
       "  <thead>\n",
       "    <tr style=\"text-align: right;\">\n",
       "      <th></th>\n",
       "      <th>PassengerId</th>\n",
       "      <th>Survived</th>\n",
       "      <th>Pclass</th>\n",
       "      <th>Name</th>\n",
       "      <th>Sex</th>\n",
       "      <th>Age</th>\n",
       "      <th>SibSp</th>\n",
       "      <th>Parch</th>\n",
       "      <th>Ticket</th>\n",
       "      <th>Fare</th>\n",
       "      <th>Cabin</th>\n",
       "      <th>Embarked</th>\n",
       "    </tr>\n",
       "  </thead>\n",
       "  <tbody>\n",
       "  </tbody>\n",
       "</table>\n",
       "</div>"
      ],
      "text/plain": [
       "Empty DataFrame\n",
       "Columns: [PassengerId, Survived, Pclass, Name, Sex, Age, SibSp, Parch, Ticket, Fare, Cabin, Embarked]\n",
       "Index: []"
      ]
     },
     "execution_count": 28,
     "metadata": {},
     "output_type": "execute_result"
    }
   ],
   "source": [
    "train_df[train_df['Fare'].isnull()]"
   ]
  },
  {
   "cell_type": "markdown",
   "id": "dd753092",
   "metadata": {
    "papermill": {
     "duration": 0.022197,
     "end_time": "2024-03-31T21:57:27.939205",
     "exception": false,
     "start_time": "2024-03-31T21:57:27.917008",
     "status": "completed"
    },
    "tags": []
   },
   "source": [
    "<a id = \"11\"></a><br>\n",
    "# Visualization"
   ]
  },
  {
   "cell_type": "markdown",
   "id": "71b7c8ea",
   "metadata": {
    "papermill": {
     "duration": 0.02311,
     "end_time": "2024-03-31T21:57:27.984385",
     "exception": false,
     "start_time": "2024-03-31T21:57:27.961275",
     "status": "completed"
    },
    "tags": []
   },
   "source": [
    "<a id = \"12\"></a><br>\n",
    "## Correlation Between Sibsp -- Parch -- Age -- Fare -- Survived**"
   ]
  },
  {
   "cell_type": "code",
   "execution_count": 29,
   "id": "d471eae8",
   "metadata": {
    "execution": {
     "iopub.execute_input": "2024-03-31T21:57:28.035111Z",
     "iopub.status.busy": "2024-03-31T21:57:28.033946Z",
     "iopub.status.idle": "2024-03-31T21:57:28.400784Z",
     "shell.execute_reply": "2024-03-31T21:57:28.399350Z"
    },
    "papermill": {
     "duration": 0.393166,
     "end_time": "2024-03-31T21:57:28.403461",
     "exception": false,
     "start_time": "2024-03-31T21:57:28.010295",
     "status": "completed"
    },
    "tags": []
   },
   "outputs": [
    {
     "data": {
      "image/png": "[encoded data removed]",
      "text/plain": [
       "<Figure size 640x480 with 2 Axes>"
      ]
     },
     "metadata": {},
     "output_type": "display_data"
    }
   ],
   "source": [
    "list1 = [\"SibSp\", \"Parch\", \"Age\", \"Fare\", \"Survived\"]\n",
    "sns.heatmap(train_df[list1].corr(), annot = True, fmt = \".2f\")\n",
    "plt.show()"
   ]
  },
  {
   "cell_type": "markdown",
   "id": "d5af9106",
   "metadata": {
    "papermill": {
     "duration": 0.022974,
     "end_time": "2024-03-31T21:57:28.449881",
     "exception": false,
     "start_time": "2024-03-31T21:57:28.426907",
     "status": "completed"
    },
    "tags": []
   },
   "source": [
    "Fare feature seems to have correlation with survived feature (0.26)."
   ]
  },
  {
   "cell_type": "markdown",
   "id": "055b8ba4",
   "metadata": {
    "papermill": {
     "duration": 0.022799,
     "end_time": "2024-03-31T21:57:28.496364",
     "exception": false,
     "start_time": "2024-03-31T21:57:28.473565",
     "status": "completed"
    },
    "tags": []
   },
   "source": [
    "<a id = \"13\"></a><br>\n",
    "## SibSp -- Survived"
   ]
  },
  {
   "cell_type": "code",
   "execution_count": 30,
   "id": "c06fb884",
   "metadata": {
    "execution": {
     "iopub.execute_input": "2024-03-31T21:57:28.544019Z",
     "iopub.status.busy": "2024-03-31T21:57:28.543498Z",
     "iopub.status.idle": "2024-03-31T21:57:29.255489Z",
     "shell.execute_reply": "2024-03-31T21:57:29.254121Z"
    },
    "papermill": {
     "duration": 0.73959,
     "end_time": "2024-03-31T21:57:29.258785",
     "exception": false,
     "start_time": "2024-03-31T21:57:28.519195",
     "status": "completed"
    },
    "tags": []
   },
   "outputs": [
    {
     "data": {
      "image/png": "[encoded data removed]",
      "text/plain": [
       "<Figure size 600x600 with 1 Axes>"
      ]
     },
     "metadata": {},
     "output_type": "display_data"
    }
   ],
   "source": [
    "g = sns.catplot(x=\"SibSp\", y=\"Survived\", data=train_df, kind=\"bar\", height=6)\n",
    "g.set_ylabels(\"Survived Probability\")\n",
    "plt.show()"
   ]
  },
  {
   "cell_type": "markdown",
   "id": "cf1e9597",
   "metadata": {
    "papermill": {
     "duration": 0.0232,
     "end_time": "2024-03-31T21:57:29.306528",
     "exception": false,
     "start_time": "2024-03-31T21:57:29.283328",
     "status": "completed"
    },
    "tags": []
   },
   "source": [
    "* Having a lot of SibSp have less chance to survive.\n",
    "* if sibsp == 0 or 1 or 2, passenger has more chance to survive\n",
    "* we can consider a new feature describing these categories."
   ]
  },
  {
   "cell_type": "markdown",
   "id": "b8623b99",
   "metadata": {
    "papermill": {
     "duration": 0.023015,
     "end_time": "2024-03-31T21:57:29.353032",
     "exception": false,
     "start_time": "2024-03-31T21:57:29.330017",
     "status": "completed"
    },
    "tags": []
   },
   "source": [
    "<a id = \"14\"></a><br>\n",
    "## Parch -- Survived"
   ]
  },
  {
   "cell_type": "code",
   "execution_count": 31,
   "id": "7daa9c8c",
   "metadata": {
    "execution": {
     "iopub.execute_input": "2024-03-31T21:57:29.402622Z",
     "iopub.status.busy": "2024-03-31T21:57:29.402139Z",
     "iopub.status.idle": "2024-03-31T21:57:30.162116Z",
     "shell.execute_reply": "2024-03-31T21:57:30.161171Z"
    },
    "papermill": {
     "duration": 0.787943,
     "end_time": "2024-03-31T21:57:30.164759",
     "exception": false,
     "start_time": "2024-03-31T21:57:29.376816",
     "status": "completed"
    },
    "tags": []
   },
   "outputs": [
    {
     "data": {
      "image/png": "[encoded data removed]",
      "text/plain": [
       "<Figure size 600x600 with 1 Axes>"
      ]
     },
     "metadata": {},
     "output_type": "display_data"
    }
   ],
   "source": [
    "g = sns.catplot(x = \"Parch\", y = \"Survived\", kind = \"bar\", data = train_df, height = 6)\n",
    "g.set_ylabels(\"Survived Probability\")\n",
    "plt.show()"
   ]
  },
  {
   "cell_type": "markdown",
   "id": "a4572dff",
   "metadata": {
    "papermill": {
     "duration": 0.023093,
     "end_time": "2024-03-31T21:57:30.211638",
     "exception": false,
     "start_time": "2024-03-31T21:57:30.188545",
     "status": "completed"
    },
    "tags": []
   },
   "source": [
    "* Sibsp and parch can be used for new feature extraction with th = 3\n",
    "* small familes have more chance to survive.\n",
    "* there is a std in survival of passenger with parch = 3"
   ]
  },
  {
   "cell_type": "markdown",
   "id": "b8a84918",
   "metadata": {
    "papermill": {
     "duration": 0.025766,
     "end_time": "2024-03-31T21:57:30.261225",
     "exception": false,
     "start_time": "2024-03-31T21:57:30.235459",
     "status": "completed"
    },
    "tags": []
   },
   "source": [
    "<a id = \"15\"></a><br>\n",
    "## Pclass -- Survived"
   ]
  },
  {
   "cell_type": "code",
   "execution_count": 32,
   "id": "6f236573",
   "metadata": {
    "execution": {
     "iopub.execute_input": "2024-03-31T21:57:30.313118Z",
     "iopub.status.busy": "2024-03-31T21:57:30.312247Z",
     "iopub.status.idle": "2024-03-31T21:57:30.793419Z",
     "shell.execute_reply": "2024-03-31T21:57:30.792273Z"
    },
    "papermill": {
     "duration": 0.510123,
     "end_time": "2024-03-31T21:57:30.796276",
     "exception": false,
     "start_time": "2024-03-31T21:57:30.286153",
     "status": "completed"
    },
    "tags": []
   },
   "outputs": [
    {
     "data": {
      "image/png": "[encoded data removed]",
      "text/plain": [
       "<Figure size 600x600 with 1 Axes>"
      ]
     },
     "metadata": {},
     "output_type": "display_data"
    }
   ],
   "source": [
    "g = sns.catplot(x = \"Pclass\", y = \"Survived\", data = train_df, kind = \"bar\", height = 6)\n",
    "g.set_ylabels(\"Survived Probability\")\n",
    "plt.show()"
   ]
  },
  {
   "cell_type": "markdown",
   "id": "e1e7e71e",
   "metadata": {
    "papermill": {
     "duration": 0.025014,
     "end_time": "2024-03-31T21:57:30.846625",
     "exception": false,
     "start_time": "2024-03-31T21:57:30.821611",
     "status": "completed"
    },
    "tags": []
   },
   "source": [
    "<a id = \"16\"></a><br>\n",
    "## Age -- Survived"
   ]
  },
  {
   "cell_type": "code",
   "execution_count": 33,
   "id": "91b9da19",
   "metadata": {
    "execution": {
     "iopub.execute_input": "2024-03-31T21:57:30.899111Z",
     "iopub.status.busy": "2024-03-31T21:57:30.898508Z",
     "iopub.status.idle": "2024-03-31T21:57:31.670870Z",
     "shell.execute_reply": "2024-03-31T21:57:31.669529Z"
    },
    "papermill": {
     "duration": 0.802822,
     "end_time": "2024-03-31T21:57:31.673986",
     "exception": false,
     "start_time": "2024-03-31T21:57:30.871164",
     "status": "completed"
    },
    "tags": []
   },
   "outputs": [
    {
     "data": {
      "image/png": "[encoded data removed]",
      "text/plain": [
       "<Figure size 600x300 with 2 Axes>"
      ]
     },
     "metadata": {},
     "output_type": "display_data"
    }
   ],
   "source": [
    "g = sns.FacetGrid(train_df, col = \"Survived\")\n",
    "g.map(sns.distplot, \"Age\", bins = 25)\n",
    "plt.show()"
   ]
  },
  {
   "cell_type": "markdown",
   "id": "c8ee33e4",
   "metadata": {
    "papermill": {
     "duration": 0.027954,
     "end_time": "2024-03-31T21:57:31.727982",
     "exception": false,
     "start_time": "2024-03-31T21:57:31.700028",
     "status": "completed"
    },
    "tags": []
   },
   "source": [
    "* age <= 10 has a high survival rate,\n",
    "* oldest passengers (80) survived,\n",
    "* large number of 20 years old did not survive,\n",
    "* most passengers are in 15-35 age range,\n",
    "* use age feature in training\n",
    "* use age distribution for missing value of age"
   ]
  },
  {
   "cell_type": "markdown",
   "id": "9e7f17d9",
   "metadata": {
    "papermill": {
     "duration": 0.024645,
     "end_time": "2024-03-31T21:57:31.778156",
     "exception": false,
     "start_time": "2024-03-31T21:57:31.753511",
     "status": "completed"
    },
    "tags": []
   },
   "source": [
    "<a id = \"17\"></a><br>\n",
    "## Pclass -- Survived -- Age"
   ]
  },
  {
   "cell_type": "code",
   "execution_count": 34,
   "id": "444b3014",
   "metadata": {
    "execution": {
     "iopub.execute_input": "2024-03-31T21:57:31.830439Z",
     "iopub.status.busy": "2024-03-31T21:57:31.829512Z",
     "iopub.status.idle": "2024-03-31T21:57:34.260362Z",
     "shell.execute_reply": "2024-03-31T21:57:34.259264Z"
    },
    "papermill": {
     "duration": 2.460966,
     "end_time": "2024-03-31T21:57:34.264000",
     "exception": false,
     "start_time": "2024-03-31T21:57:31.803034",
     "status": "completed"
    },
    "tags": []
   },
   "outputs": [
    {
     "data": {
      "image/png": "[encoded data removed]",
      "text/plain": [
       "<Figure size 411.111x600 with 6 Axes>"
      ]
     },
     "metadata": {},
     "output_type": "display_data"
    }
   ],
   "source": [
    "g = sns.FacetGrid(train_df, col = \"Survived\", row = \"Pclass\", height = 2)\n",
    "g.map(plt.hist, \"Age\", bins = 25)\n",
    "g.add_legend()\n",
    "plt.show()"
   ]
  },
  {
   "cell_type": "markdown",
   "id": "b790315c",
   "metadata": {
    "papermill": {
     "duration": 0.0256,
     "end_time": "2024-03-31T21:57:34.314954",
     "exception": false,
     "start_time": "2024-03-31T21:57:34.289354",
     "status": "completed"
    },
    "tags": []
   },
   "source": [
    "* pclass is important feature for model training."
   ]
  },
  {
   "cell_type": "markdown",
   "id": "9992e094",
   "metadata": {
    "papermill": {
     "duration": 0.025845,
     "end_time": "2024-03-31T21:57:34.366702",
     "exception": false,
     "start_time": "2024-03-31T21:57:34.340857",
     "status": "completed"
    },
    "tags": []
   },
   "source": [
    "<a id = \"18\"></a><br>\n",
    "## Embarked -- Sex -- Pclass -- Survived"
   ]
  },
  {
   "cell_type": "code",
   "execution_count": 35,
   "id": "0b73fbc6",
   "metadata": {
    "execution": {
     "iopub.execute_input": "2024-03-31T21:57:34.422493Z",
     "iopub.status.busy": "2024-03-31T21:57:34.421939Z",
     "iopub.status.idle": "2024-03-31T21:57:36.488513Z",
     "shell.execute_reply": "2024-03-31T21:57:36.487189Z"
    },
    "papermill": {
     "duration": 2.099176,
     "end_time": "2024-03-31T21:57:36.491777",
     "exception": false,
     "start_time": "2024-03-31T21:57:34.392601",
     "status": "completed"
    },
    "tags": []
   },
   "outputs": [
    {
     "data": {
      "image/png": "[encoded data removed]",
      "text/plain": [
       "<Figure size 298x600 with 3 Axes>"
      ]
     },
     "metadata": {},
     "output_type": "display_data"
    }
   ],
   "source": [
    "g = sns.FacetGrid(train_df, row = \"Embarked\", height = 2)\n",
    "g.map(sns.pointplot, \"Pclass\",\"Survived\",\"Sex\")\n",
    "g.add_legend()\n",
    "plt.show()"
   ]
  },
  {
   "cell_type": "markdown",
   "id": "077f60d6",
   "metadata": {
    "papermill": {
     "duration": 0.025185,
     "end_time": "2024-03-31T21:57:36.543002",
     "exception": false,
     "start_time": "2024-03-31T21:57:36.517817",
     "status": "completed"
    },
    "tags": []
   },
   "source": [
    "* Female passengers have much better survival rate than males.\n",
    "* males have better survşval rate in pclass 3 in C.\n",
    "* embarked and sex will be used in training."
   ]
  },
  {
   "cell_type": "markdown",
   "id": "2937b1b0",
   "metadata": {
    "papermill": {
     "duration": 0.025528,
     "end_time": "2024-03-31T21:57:36.594279",
     "exception": false,
     "start_time": "2024-03-31T21:57:36.568751",
     "status": "completed"
    },
    "tags": []
   },
   "source": [
    "<a id = \"19\"></a><br>\n",
    "## Embarked -- Sex -- Fare -- Survived"
   ]
  },
  {
   "cell_type": "code",
   "execution_count": 36,
   "id": "6032d64d",
   "metadata": {
    "execution": {
     "iopub.execute_input": "2024-03-31T21:57:36.650434Z",
     "iopub.status.busy": "2024-03-31T21:57:36.649904Z",
     "iopub.status.idle": "2024-03-31T21:57:38.782004Z",
     "shell.execute_reply": "2024-03-31T21:57:38.780622Z"
    },
    "papermill": {
     "duration": 2.163232,
     "end_time": "2024-03-31T21:57:38.785016",
     "exception": false,
     "start_time": "2024-03-31T21:57:36.621784",
     "status": "completed"
    },
    "tags": []
   },
   "outputs": [
    {
     "data": {
      "image/png": "[encoded data removed]",
      "text/plain": [
       "<Figure size 471.111x690 with 6 Axes>"
      ]
     },
     "metadata": {},
     "output_type": "display_data"
    }
   ],
   "source": [
    "g = sns.FacetGrid(train_df, row = \"Embarked\", col = \"Survived\", height = 2.3)\n",
    "g.map(sns.barplot, \"Sex\", \"Fare\")\n",
    "g.add_legend()\n",
    "plt.show()"
   ]
  },
  {
   "cell_type": "markdown",
   "id": "a960f89a",
   "metadata": {
    "papermill": {
     "duration": 0.027718,
     "end_time": "2024-03-31T21:57:38.839321",
     "exception": false,
     "start_time": "2024-03-31T21:57:38.811603",
     "status": "completed"
    },
    "tags": []
   },
   "source": [
    "* Passsengers who pay higher fare have better survival. Fare can be used as categorical for training."
   ]
  },
  {
   "cell_type": "markdown",
   "id": "f98bf4ff",
   "metadata": {
    "papermill": {
     "duration": 0.027027,
     "end_time": "2024-03-31T21:57:38.892943",
     "exception": false,
     "start_time": "2024-03-31T21:57:38.865916",
     "status": "completed"
    },
    "tags": []
   },
   "source": [
    "<a id = \"20\"></a><br>\n",
    "## Fill Missing: Age Feature"
   ]
  },
  {
   "cell_type": "code",
   "execution_count": 37,
   "id": "eb851b1c",
   "metadata": {
    "execution": {
     "iopub.execute_input": "2024-03-31T21:57:38.950029Z",
     "iopub.status.busy": "2024-03-31T21:57:38.949519Z",
     "iopub.status.idle": "2024-03-31T21:57:38.973675Z",
     "shell.execute_reply": "2024-03-31T21:57:38.972345Z"
    },
    "papermill": {
     "duration": 0.056254,
     "end_time": "2024-03-31T21:57:38.976527",
     "exception": false,
     "start_time": "2024-03-31T21:57:38.920273",
     "status": "completed"
    },
    "tags": []
   },
   "outputs": [
    {
     "data": {
      "text/html": [
       "<div>\n",
       "<style scoped>\n",
       "    .dataframe tbody tr th:only-of-type {\n",
       "        vertical-align: middle;\n",
       "    }\n",
       "\n",
       "    .dataframe tbody tr th {\n",
       "        vertical-align: top;\n",
       "    }\n",
       "\n",
       "    .dataframe thead th {\n",
       "        text-align: right;\n",
       "    }\n",
       "</style>\n",
       "<table border=\"1\" class=\"dataframe\">\n",
       "  <thead>\n",
       "    <tr style=\"text-align: right;\">\n",
       "      <th></th>\n",
       "      <th>PassengerId</th>\n",
       "      <th>Survived</th>\n",
       "      <th>Pclass</th>\n",
       "      <th>Name</th>\n",
       "      <th>Sex</th>\n",
       "      <th>Age</th>\n",
       "      <th>SibSp</th>\n",
       "      <th>Parch</th>\n",
       "      <th>Ticket</th>\n",
       "      <th>Fare</th>\n",
       "      <th>Cabin</th>\n",
       "      <th>Embarked</th>\n",
       "    </tr>\n",
       "  </thead>\n",
       "  <tbody>\n",
       "    <tr>\n",
       "      <th>5</th>\n",
       "      <td>6</td>\n",
       "      <td>0.0</td>\n",
       "      <td>3</td>\n",
       "      <td>Moran, Mr. James</td>\n",
       "      <td>male</td>\n",
       "      <td>NaN</td>\n",
       "      <td>0</td>\n",
       "      <td>0</td>\n",
       "      <td>330877</td>\n",
       "      <td>8.4583</td>\n",
       "      <td>NaN</td>\n",
       "      <td>Q</td>\n",
       "    </tr>\n",
       "    <tr>\n",
       "      <th>17</th>\n",
       "      <td>18</td>\n",
       "      <td>1.0</td>\n",
       "      <td>2</td>\n",
       "      <td>Williams, Mr. Charles Eugene</td>\n",
       "      <td>male</td>\n",
       "      <td>NaN</td>\n",
       "      <td>0</td>\n",
       "      <td>0</td>\n",
       "      <td>244373</td>\n",
       "      <td>13.0000</td>\n",
       "      <td>NaN</td>\n",
       "      <td>S</td>\n",
       "    </tr>\n",
       "    <tr>\n",
       "      <th>19</th>\n",
       "      <td>20</td>\n",
       "      <td>1.0</td>\n",
       "      <td>3</td>\n",
       "      <td>Masselmani, Mrs. Fatima</td>\n",
       "      <td>female</td>\n",
       "      <td>NaN</td>\n",
       "      <td>0</td>\n",
       "      <td>0</td>\n",
       "      <td>2649</td>\n",
       "      <td>7.2250</td>\n",
       "      <td>NaN</td>\n",
       "      <td>C</td>\n",
       "    </tr>\n",
       "    <tr>\n",
       "      <th>26</th>\n",
       "      <td>27</td>\n",
       "      <td>0.0</td>\n",
       "      <td>3</td>\n",
       "      <td>Emir, Mr. Farred Chehab</td>\n",
       "      <td>male</td>\n",
       "      <td>NaN</td>\n",
       "      <td>0</td>\n",
       "      <td>0</td>\n",
       "      <td>2631</td>\n",
       "      <td>7.2250</td>\n",
       "      <td>NaN</td>\n",
       "      <td>C</td>\n",
       "    </tr>\n",
       "    <tr>\n",
       "      <th>27</th>\n",
       "      <td>29</td>\n",
       "      <td>1.0</td>\n",
       "      <td>3</td>\n",
       "      <td>O'Dwyer, Miss. Ellen \"Nellie\"</td>\n",
       "      <td>female</td>\n",
       "      <td>NaN</td>\n",
       "      <td>0</td>\n",
       "      <td>0</td>\n",
       "      <td>330959</td>\n",
       "      <td>7.8792</td>\n",
       "      <td>NaN</td>\n",
       "      <td>Q</td>\n",
       "    </tr>\n",
       "    <tr>\n",
       "      <th>...</th>\n",
       "      <td>...</td>\n",
       "      <td>...</td>\n",
       "      <td>...</td>\n",
       "      <td>...</td>\n",
       "      <td>...</td>\n",
       "      <td>...</td>\n",
       "      <td>...</td>\n",
       "      <td>...</td>\n",
       "      <td>...</td>\n",
       "      <td>...</td>\n",
       "      <td>...</td>\n",
       "      <td>...</td>\n",
       "    </tr>\n",
       "    <tr>\n",
       "      <th>1289</th>\n",
       "      <td>1300</td>\n",
       "      <td>NaN</td>\n",
       "      <td>3</td>\n",
       "      <td>Riordan, Miss. Johanna Hannah\"\"</td>\n",
       "      <td>female</td>\n",
       "      <td>NaN</td>\n",
       "      <td>0</td>\n",
       "      <td>0</td>\n",
       "      <td>334915</td>\n",
       "      <td>7.7208</td>\n",
       "      <td>NaN</td>\n",
       "      <td>Q</td>\n",
       "    </tr>\n",
       "    <tr>\n",
       "      <th>1291</th>\n",
       "      <td>1302</td>\n",
       "      <td>NaN</td>\n",
       "      <td>3</td>\n",
       "      <td>Naughton, Miss. Hannah</td>\n",
       "      <td>female</td>\n",
       "      <td>NaN</td>\n",
       "      <td>0</td>\n",
       "      <td>0</td>\n",
       "      <td>365237</td>\n",
       "      <td>7.7500</td>\n",
       "      <td>NaN</td>\n",
       "      <td>Q</td>\n",
       "    </tr>\n",
       "    <tr>\n",
       "      <th>1294</th>\n",
       "      <td>1305</td>\n",
       "      <td>NaN</td>\n",
       "      <td>3</td>\n",
       "      <td>Spector, Mr. Woolf</td>\n",
       "      <td>male</td>\n",
       "      <td>NaN</td>\n",
       "      <td>0</td>\n",
       "      <td>0</td>\n",
       "      <td>A.5. 3236</td>\n",
       "      <td>8.0500</td>\n",
       "      <td>NaN</td>\n",
       "      <td>S</td>\n",
       "    </tr>\n",
       "    <tr>\n",
       "      <th>1297</th>\n",
       "      <td>1308</td>\n",
       "      <td>NaN</td>\n",
       "      <td>3</td>\n",
       "      <td>Ware, Mr. Frederick</td>\n",
       "      <td>male</td>\n",
       "      <td>NaN</td>\n",
       "      <td>0</td>\n",
       "      <td>0</td>\n",
       "      <td>359309</td>\n",
       "      <td>8.0500</td>\n",
       "      <td>NaN</td>\n",
       "      <td>S</td>\n",
       "    </tr>\n",
       "    <tr>\n",
       "      <th>1298</th>\n",
       "      <td>1309</td>\n",
       "      <td>NaN</td>\n",
       "      <td>3</td>\n",
       "      <td>Peter, Master. Michael J</td>\n",
       "      <td>male</td>\n",
       "      <td>NaN</td>\n",
       "      <td>1</td>\n",
       "      <td>1</td>\n",
       "      <td>2668</td>\n",
       "      <td>22.3583</td>\n",
       "      <td>NaN</td>\n",
       "      <td>C</td>\n",
       "    </tr>\n",
       "  </tbody>\n",
       "</table>\n",
       "<p>256 rows × 12 columns</p>\n",
       "</div>"
      ],
      "text/plain": [
       "      PassengerId  Survived  Pclass                             Name     Sex  \\\n",
       "5               6       0.0       3                 Moran, Mr. James    male   \n",
       "17             18       1.0       2     Williams, Mr. Charles Eugene    male   \n",
       "19             20       1.0       3          Masselmani, Mrs. Fatima  female   \n",
       "26             27       0.0       3          Emir, Mr. Farred Chehab    male   \n",
       "27             29       1.0       3    O'Dwyer, Miss. Ellen \"Nellie\"  female   \n",
       "...           ...       ...     ...                              ...     ...   \n",
       "1289         1300       NaN       3  Riordan, Miss. Johanna Hannah\"\"  female   \n",
       "1291         1302       NaN       3           Naughton, Miss. Hannah  female   \n",
       "1294         1305       NaN       3               Spector, Mr. Woolf    male   \n",
       "1297         1308       NaN       3              Ware, Mr. Frederick    male   \n",
       "1298         1309       NaN       3         Peter, Master. Michael J    male   \n",
       "\n",
       "      Age  SibSp  Parch     Ticket     Fare Cabin Embarked  \n",
       "5     NaN      0      0     330877   8.4583   NaN        Q  \n",
       "17    NaN      0      0     244373  13.0000   NaN        S  \n",
       "19    NaN      0      0       2649   7.2250   NaN        C  \n",
       "26    NaN      0      0       2631   7.2250   NaN        C  \n",
       "27    NaN      0      0     330959   7.8792   NaN        Q  \n",
       "...   ...    ...    ...        ...      ...   ...      ...  \n",
       "1289  NaN      0      0     334915   7.7208   NaN        Q  \n",
       "1291  NaN      0      0     365237   7.7500   NaN        Q  \n",
       "1294  NaN      0      0  A.5. 3236   8.0500   NaN        S  \n",
       "1297  NaN      0      0     359309   8.0500   NaN        S  \n",
       "1298  NaN      1      1       2668  22.3583   NaN        C  \n",
       "\n",
       "[256 rows x 12 columns]"
      ]
     },
     "execution_count": 37,
     "metadata": {},
     "output_type": "execute_result"
    }
   ],
   "source": [
    "train_df[train_df[\"Age\"].isnull()]"
   ]
  },
  {
   "cell_type": "code",
   "execution_count": 38,
   "id": "17c2331d",
   "metadata": {
    "execution": {
     "iopub.execute_input": "2024-03-31T21:57:39.038047Z",
     "iopub.status.busy": "2024-03-31T21:57:39.037589Z",
     "iopub.status.idle": "2024-03-31T21:57:39.374502Z",
     "shell.execute_reply": "2024-03-31T21:57:39.373243Z"
    },
    "papermill": {
     "duration": 0.371484,
     "end_time": "2024-03-31T21:57:39.377030",
     "exception": false,
     "start_time": "2024-03-31T21:57:39.005546",
     "status": "completed"
    },
    "tags": []
   },
   "outputs": [
    {
     "data": {
      "image/png": "[encoded data removed]",
      "text/plain": [
       "<Figure size 500x500 with 1 Axes>"
      ]
     },
     "metadata": {},
     "output_type": "display_data"
    }
   ],
   "source": [
    "sns.catplot(x = \"Sex\", y = \"Age\", data = train_df, kind = \"box\")\n",
    "plt.show()"
   ]
  },
  {
   "cell_type": "markdown",
   "id": "41f01ad2",
   "metadata": {
    "papermill": {
     "duration": 0.027233,
     "end_time": "2024-03-31T21:57:39.432387",
     "exception": false,
     "start_time": "2024-03-31T21:57:39.405154",
     "status": "completed"
    },
    "tags": []
   },
   "source": [
    "Sex is not informative for age prediction, age distribution seems to be same."
   ]
  },
  {
   "cell_type": "code",
   "execution_count": 39,
   "id": "7ca67e0e",
   "metadata": {
    "execution": {
     "iopub.execute_input": "2024-03-31T21:57:39.492894Z",
     "iopub.status.busy": "2024-03-31T21:57:39.492349Z",
     "iopub.status.idle": "2024-03-31T21:57:39.996864Z",
     "shell.execute_reply": "2024-03-31T21:57:39.995583Z"
    },
    "papermill": {
     "duration": 0.538845,
     "end_time": "2024-03-31T21:57:39.999569",
     "exception": false,
     "start_time": "2024-03-31T21:57:39.460724",
     "status": "completed"
    },
    "tags": []
   },
   "outputs": [
    {
     "data": {
      "image/png": "[encoded data removed]",
      "text/plain": [
       "<Figure size 558.875x500 with 1 Axes>"
      ]
     },
     "metadata": {},
     "output_type": "display_data"
    }
   ],
   "source": [
    "sns.catplot(x = \"Sex\", y = \"Age\", hue = \"Pclass\",data = train_df, kind = \"box\")\n",
    "plt.show()"
   ]
  },
  {
   "cell_type": "markdown",
   "id": "9b997f6e",
   "metadata": {
    "papermill": {
     "duration": 0.027419,
     "end_time": "2024-03-31T21:57:40.055292",
     "exception": false,
     "start_time": "2024-03-31T21:57:40.027873",
     "status": "completed"
    },
    "tags": []
   },
   "source": [
    "1st class passengers are older than 2nd, and 2nd is older than 3rd class. "
   ]
  },
  {
   "cell_type": "code",
   "execution_count": 40,
   "id": "408c1082",
   "metadata": {
    "execution": {
     "iopub.execute_input": "2024-03-31T21:57:40.113014Z",
     "iopub.status.busy": "2024-03-31T21:57:40.112560Z",
     "iopub.status.idle": "2024-03-31T21:57:41.138976Z",
     "shell.execute_reply": "2024-03-31T21:57:41.137713Z"
    },
    "papermill": {
     "duration": 1.058507,
     "end_time": "2024-03-31T21:57:41.141640",
     "exception": false,
     "start_time": "2024-03-31T21:57:40.083133",
     "status": "completed"
    },
    "tags": []
   },
   "outputs": [
    {
     "data": {
      "image/png": "[encoded data removed]",
      "text/plain": [
       "<Figure size 500x500 with 1 Axes>"
      ]
     },
     "metadata": {},
     "output_type": "display_data"
    },
    {
     "data": {
      "image/png": "[encoded data removed]",
      "text/plain": [
       "<Figure size 500x500 with 1 Axes>"
      ]
     },
     "metadata": {},
     "output_type": "display_data"
    }
   ],
   "source": [
    "sns.catplot(x = \"Parch\", y = \"Age\", data = train_df, kind = \"box\")\n",
    "sns.catplot(x = \"SibSp\", y = \"Age\", data = train_df, kind = \"box\")\n",
    "plt.show()"
   ]
  },
  {
   "cell_type": "code",
   "execution_count": 41,
   "id": "4af79227",
   "metadata": {
    "execution": {
     "iopub.execute_input": "2024-03-31T21:57:41.203238Z",
     "iopub.status.busy": "2024-03-31T21:57:41.202704Z",
     "iopub.status.idle": "2024-03-31T21:57:41.207722Z",
     "shell.execute_reply": "2024-03-31T21:57:41.206545Z"
    },
    "papermill": {
     "duration": 0.039851,
     "end_time": "2024-03-31T21:57:41.210194",
     "exception": false,
     "start_time": "2024-03-31T21:57:41.170343",
     "status": "completed"
    },
    "tags": []
   },
   "outputs": [],
   "source": [
    "#train_df[\"Sex\"] = [1 if i == \"male\" else 0 for i in train_df[\"Sex\"]]"
   ]
  },
  {
   "cell_type": "code",
   "execution_count": 42,
   "id": "0e1a93eb",
   "metadata": {
    "execution": {
     "iopub.execute_input": "2024-03-31T21:57:41.270695Z",
     "iopub.status.busy": "2024-03-31T21:57:41.270265Z",
     "iopub.status.idle": "2024-03-31T21:57:42.705357Z",
     "shell.execute_reply": "2024-03-31T21:57:42.703565Z"
    },
    "papermill": {
     "duration": 1.4683,
     "end_time": "2024-03-31T21:57:42.707602",
     "exception": true,
     "start_time": "2024-03-31T21:57:41.239302",
     "status": "failed"
    },
    "tags": []
   },
   "outputs": [
    {
     "ename": "ValueError",
     "evalue": "could not convert string to float: 'male'",
     "output_type": "error",
     "traceback": [
      "\u001b[0;31m---------------------------------------------------------------------------\u001b[0m",
      "\u001b[0;31mValueError\u001b[0m                                Traceback (most recent call last)",
      "Cell \u001b[0;32mIn[42], line 1\u001b[0m\n\u001b[0;32m----> 1\u001b[0m sns\u001b[38;5;241m.\u001b[39mheatmap(\u001b[43mtrain_df\u001b[49m\u001b[43m[\u001b[49m\u001b[43m[\u001b[49m\u001b[38;5;124;43m\"\u001b[39;49m\u001b[38;5;124;43mAge\u001b[39;49m\u001b[38;5;124;43m\"\u001b[39;49m\u001b[43m,\u001b[49m\u001b[38;5;124;43m\"\u001b[39;49m\u001b[38;5;124;43mSex\u001b[39;49m\u001b[38;5;124;43m\"\u001b[39;49m\u001b[43m,\u001b[49m\u001b[38;5;124;43m\"\u001b[39;49m\u001b[38;5;124;43mSibSp\u001b[39;49m\u001b[38;5;124;43m\"\u001b[39;49m\u001b[43m,\u001b[49m\u001b[38;5;124;43m\"\u001b[39;49m\u001b[38;5;124;43mParch\u001b[39;49m\u001b[38;5;124;43m\"\u001b[39;49m\u001b[43m,\u001b[49m\u001b[38;5;124;43m\"\u001b[39;49m\u001b[38;5;124;43mPclass\u001b[39;49m\u001b[38;5;124;43m\"\u001b[39;49m\u001b[43m]\u001b[49m\u001b[43m]\u001b[49m\u001b[38;5;241;43m.\u001b[39;49m\u001b[43mcorr\u001b[49m\u001b[43m(\u001b[49m\u001b[43m)\u001b[49m, annot \u001b[38;5;241m=\u001b[39m \u001b[38;5;28;01mTrue\u001b[39;00m)\n\u001b[1;32m      2\u001b[0m plt\u001b[38;5;241m.\u001b[39mshow()\n",
      "File \u001b[0;32m/opt/conda/lib/python3.10/site-packages/pandas/core/frame.py:11036\u001b[0m, in \u001b[0;36mDataFrame.corr\u001b[0;34m(self, method, min_periods, numeric_only)\u001b[0m\n\u001b[1;32m  11034\u001b[0m cols \u001b[38;5;241m=\u001b[39m data\u001b[38;5;241m.\u001b[39mcolumns\n\u001b[1;32m  11035\u001b[0m idx \u001b[38;5;241m=\u001b[39m cols\u001b[38;5;241m.\u001b[39mcopy()\n\u001b[0;32m> 11036\u001b[0m mat \u001b[38;5;241m=\u001b[39m \u001b[43mdata\u001b[49m\u001b[38;5;241;43m.\u001b[39;49m\u001b[43mto_numpy\u001b[49m\u001b[43m(\u001b[49m\u001b[43mdtype\u001b[49m\u001b[38;5;241;43m=\u001b[39;49m\u001b[38;5;28;43mfloat\u001b[39;49m\u001b[43m,\u001b[49m\u001b[43m \u001b[49m\u001b[43mna_value\u001b[49m\u001b[38;5;241;43m=\u001b[39;49m\u001b[43mnp\u001b[49m\u001b[38;5;241;43m.\u001b[39;49m\u001b[43mnan\u001b[49m\u001b[43m,\u001b[49m\u001b[43m \u001b[49m\u001b[43mcopy\u001b[49m\u001b[38;5;241;43m=\u001b[39;49m\u001b[38;5;28;43;01mFalse\u001b[39;49;00m\u001b[43m)\u001b[49m\n\u001b[1;32m  11038\u001b[0m \u001b[38;5;28;01mif\u001b[39;00m method \u001b[38;5;241m==\u001b[39m \u001b[38;5;124m\"\u001b[39m\u001b[38;5;124mpearson\u001b[39m\u001b[38;5;124m\"\u001b[39m:\n\u001b[1;32m  11039\u001b[0m     correl \u001b[38;5;241m=\u001b[39m libalgos\u001b[38;5;241m.\u001b[39mnancorr(mat, minp\u001b[38;5;241m=\u001b[39mmin_periods)\n",
      "File \u001b[0;32m/opt/conda/lib/python3.10/site-packages/pandas/core/frame.py:1981\u001b[0m, in \u001b[0;36mDataFrame.to_numpy\u001b[0;34m(self, dtype, copy, na_value)\u001b[0m\n\u001b[1;32m   1979\u001b[0m \u001b[38;5;28;01mif\u001b[39;00m dtype \u001b[38;5;129;01mis\u001b[39;00m \u001b[38;5;129;01mnot\u001b[39;00m \u001b[38;5;28;01mNone\u001b[39;00m:\n\u001b[1;32m   1980\u001b[0m     dtype \u001b[38;5;241m=\u001b[39m np\u001b[38;5;241m.\u001b[39mdtype(dtype)\n\u001b[0;32m-> 1981\u001b[0m result \u001b[38;5;241m=\u001b[39m \u001b[38;5;28;43mself\u001b[39;49m\u001b[38;5;241;43m.\u001b[39;49m\u001b[43m_mgr\u001b[49m\u001b[38;5;241;43m.\u001b[39;49m\u001b[43mas_array\u001b[49m\u001b[43m(\u001b[49m\u001b[43mdtype\u001b[49m\u001b[38;5;241;43m=\u001b[39;49m\u001b[43mdtype\u001b[49m\u001b[43m,\u001b[49m\u001b[43m \u001b[49m\u001b[43mcopy\u001b[49m\u001b[38;5;241;43m=\u001b[39;49m\u001b[43mcopy\u001b[49m\u001b[43m,\u001b[49m\u001b[43m \u001b[49m\u001b[43mna_value\u001b[49m\u001b[38;5;241;43m=\u001b[39;49m\u001b[43mna_value\u001b[49m\u001b[43m)\u001b[49m\n\u001b[1;32m   1982\u001b[0m \u001b[38;5;28;01mif\u001b[39;00m result\u001b[38;5;241m.\u001b[39mdtype \u001b[38;5;129;01mis\u001b[39;00m \u001b[38;5;129;01mnot\u001b[39;00m dtype:\n\u001b[1;32m   1983\u001b[0m     result \u001b[38;5;241m=\u001b[39m np\u001b[38;5;241m.\u001b[39marray(result, dtype\u001b[38;5;241m=\u001b[39mdtype, copy\u001b[38;5;241m=\u001b[39m\u001b[38;5;28;01mFalse\u001b[39;00m)\n",
      "File \u001b[0;32m/opt/conda/lib/python3.10/site-packages/pandas/core/internals/managers.py:1692\u001b[0m, in \u001b[0;36mBlockManager.as_array\u001b[0;34m(self, dtype, copy, na_value)\u001b[0m\n\u001b[1;32m   1690\u001b[0m         arr\u001b[38;5;241m.\u001b[39mflags\u001b[38;5;241m.\u001b[39mwriteable \u001b[38;5;241m=\u001b[39m \u001b[38;5;28;01mFalse\u001b[39;00m\n\u001b[1;32m   1691\u001b[0m \u001b[38;5;28;01melse\u001b[39;00m:\n\u001b[0;32m-> 1692\u001b[0m     arr \u001b[38;5;241m=\u001b[39m \u001b[38;5;28;43mself\u001b[39;49m\u001b[38;5;241;43m.\u001b[39;49m\u001b[43m_interleave\u001b[49m\u001b[43m(\u001b[49m\u001b[43mdtype\u001b[49m\u001b[38;5;241;43m=\u001b[39;49m\u001b[43mdtype\u001b[49m\u001b[43m,\u001b[49m\u001b[43m \u001b[49m\u001b[43mna_value\u001b[49m\u001b[38;5;241;43m=\u001b[39;49m\u001b[43mna_value\u001b[49m\u001b[43m)\u001b[49m\n\u001b[1;32m   1693\u001b[0m     \u001b[38;5;66;03m# The underlying data was copied within _interleave, so no need\u001b[39;00m\n\u001b[1;32m   1694\u001b[0m     \u001b[38;5;66;03m# to further copy if copy=True or setting na_value\u001b[39;00m\n\u001b[1;32m   1696\u001b[0m \u001b[38;5;28;01mif\u001b[39;00m na_value \u001b[38;5;129;01mis\u001b[39;00m lib\u001b[38;5;241m.\u001b[39mno_default:\n",
      "File \u001b[0;32m/opt/conda/lib/python3.10/site-packages/pandas/core/internals/managers.py:1751\u001b[0m, in \u001b[0;36mBlockManager._interleave\u001b[0;34m(self, dtype, na_value)\u001b[0m\n\u001b[1;32m   1749\u001b[0m     \u001b[38;5;28;01melse\u001b[39;00m:\n\u001b[1;32m   1750\u001b[0m         arr \u001b[38;5;241m=\u001b[39m blk\u001b[38;5;241m.\u001b[39mget_values(dtype)\n\u001b[0;32m-> 1751\u001b[0m     \u001b[43mresult\u001b[49m\u001b[43m[\u001b[49m\u001b[43mrl\u001b[49m\u001b[38;5;241;43m.\u001b[39;49m\u001b[43mindexer\u001b[49m\u001b[43m]\u001b[49m \u001b[38;5;241m=\u001b[39m arr\n\u001b[1;32m   1752\u001b[0m     itemmask[rl\u001b[38;5;241m.\u001b[39mindexer] \u001b[38;5;241m=\u001b[39m \u001b[38;5;241m1\u001b[39m\n\u001b[1;32m   1754\u001b[0m \u001b[38;5;28;01mif\u001b[39;00m \u001b[38;5;129;01mnot\u001b[39;00m itemmask\u001b[38;5;241m.\u001b[39mall():\n",
      "\u001b[0;31mValueError\u001b[0m: could not convert string to float: 'male'"
     ]
    }
   ],
   "source": [
    "sns.heatmap(train_df[[\"Age\",\"Sex\",\"SibSp\",\"Parch\",\"Pclass\"]].corr(), annot = True)\n",
    "plt.show()"
   ]
  },
  {
   "cell_type": "markdown",
   "id": "0b21c54e",
   "metadata": {
    "papermill": {
     "duration": null,
     "end_time": null,
     "exception": null,
     "start_time": null,
     "status": "pending"
    },
    "tags": []
   },
   "source": [
    "Age is not correlated with sex but it is correlated with parch, sibsp and pclass."
   ]
  },
  {
   "cell_type": "code",
   "execution_count": null,
   "id": "27b610ea",
   "metadata": {
    "execution": {
     "iopub.execute_input": "2024-03-31T21:14:25.730709Z",
     "iopub.status.busy": "2024-03-31T21:14:25.730073Z",
     "iopub.status.idle": "2024-03-31T21:14:26.078666Z",
     "shell.execute_reply": "2024-03-31T21:14:26.077944Z",
     "shell.execute_reply.started": "2024-03-31T21:14:25.730674Z"
    },
    "papermill": {
     "duration": null,
     "end_time": null,
     "exception": null,
     "start_time": null,
     "status": "pending"
    },
    "tags": []
   },
   "outputs": [],
   "source": [
    "index_nan_age = list(train_df[\"Age\"][train_df[\"Age\"].isnull()].index)\n",
    "for i in index_nan_age:\n",
    "    age_pred = train_df[\"Age\"][((train_df[\"SibSp\"] == train_df.iloc[i][\"SibSp\"]) &(train_df[\"Parch\"] == train_df.iloc[i][\"Parch\"])& (train_df[\"Pclass\"] == train_df.iloc[i][\"Pclass\"]))].median()\n",
    "    age_med = train_df[\"Age\"].median()\n",
    "    if not np.isnan(age_pred):\n",
    "        train_df[\"Age\"].iloc[i] = age_pred\n",
    "    else:\n",
    "        train_df[\"Age\"].iloc[i] = age_med"
   ]
  },
  {
   "cell_type": "code",
   "execution_count": null,
   "id": "dd2dc584",
   "metadata": {
    "execution": {
     "iopub.execute_input": "2024-03-31T21:14:27.747762Z",
     "iopub.status.busy": "2024-03-31T21:14:27.747461Z",
     "iopub.status.idle": "2024-03-31T21:14:27.758321Z",
     "shell.execute_reply": "2024-03-31T21:14:27.757279Z",
     "shell.execute_reply.started": "2024-03-31T21:14:27.747740Z"
    },
    "papermill": {
     "duration": null,
     "end_time": null,
     "exception": null,
     "start_time": null,
     "status": "pending"
    },
    "tags": []
   },
   "outputs": [],
   "source": [
    "train_df[train_df[\"Age\"].isnull()]"
   ]
  },
  {
   "cell_type": "markdown",
   "id": "36c7bd1f",
   "metadata": {
    "execution": {
     "iopub.execute_input": "2024-03-31T21:34:35.321103Z",
     "iopub.status.busy": "2024-03-31T21:34:35.320779Z",
     "iopub.status.idle": "2024-03-31T21:34:35.327739Z",
     "shell.execute_reply": "2024-03-31T21:34:35.326154Z",
     "shell.execute_reply.started": "2024-03-31T21:34:35.321077Z"
    },
    "papermill": {
     "duration": null,
     "end_time": null,
     "exception": null,
     "start_time": null,
     "status": "pending"
    },
    "tags": []
   },
   "source": [
    "to be continued..."
   ]
  }
 ],
 "metadata": {
  "kaggle": {
   "accelerator": "none",
   "dataSources": [
    {
     "databundleVersionId": 26502,
     "sourceId": 3136,
     "sourceType": "competition"
    }
   ],
   "isGpuEnabled": false,
   "isInternetEnabled": true,
   "language": "python",
   "sourceType": "notebook"
  },
  "kernelspec": {
   "display_name": "Python 3",
   "language": "python",
   "name": "python3"
  },
  "language_info": {
   "codemirror_mode": {
    "name": "ipython",
    "version": 3
   },
   "file_extension": ".py",
   "mimetype": "text/x-python",
   "name": "python",
   "nbconvert_exporter": "python",
   "pygments_lexer": "ipython3",
   "version": "3.10.13"
  },
  "papermill": {
   "default_parameters": {},
   "duration": 27.021978,
   "end_time": "2024-03-31T21:57:44.061930",
   "environment_variables": {},
   "exception": true,
   "input_path": "__notebook__.ipynb",
   "output_path": "__notebook__.ipynb",
   "parameters": {},
   "start_time": "2024-03-31T21:57:17.039952",
   "version": "2.5.0"
  }
 },
 "nbformat": 4,
 "nbformat_minor": 5
}
